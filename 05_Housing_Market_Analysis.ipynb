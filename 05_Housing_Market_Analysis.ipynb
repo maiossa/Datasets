{
 "cells": [
  {
   "cell_type": "markdown",
   "id": "9b507988",
   "metadata": {},
   "source": [
    "# 05_Housing_Market_Analysis - Hauptanalyse\n",
    "## Berliner Wohnungsmarkt - Umfassende Datenanalyse\n",
    "\n",
    "### 🎯 **Projektübersicht**\n",
    "Dieses Notebook führt die **Hauptanalyse** des Berliner Wohnungsmarktes durch und baut auf der **modularen Preprocessing-Pipeline** auf:\n",
    "\n",
    "1. **01_Clean_Dataset_2018_2019.ipynb** ✅ \n",
    "2. **02_Clean_Dataset_2022.ipynb** ✅\n",
    "3. **03_Clean_Dataset_2025.ipynb** ✅  \n",
    "4. **04_Combine_Datasets.ipynb** ✅\n",
    "5. **05_Housing_Market_Analysis.ipynb** ← **Dieses Notebook**\n",
    "\n",
    "### 📊 **Input-Daten**\n",
    "- **Kombiniertes Dataset:** `data/processed/berlin_housing_combined_enriched_final.csv`\n",
    "- **Zeitspanne:** 2019, 2022, 2025 (7 Jahre Entwicklung)\n",
    "- **Datenpunkte:** 17.487 Einträge\n",
    "- **Bezirke:** 87 Berliner Bezirke/Ortsteile\n",
    "- **🆕 PLZ-Enhancement:** 25.7% der Daten mit PLZ, Ortsteil und Koordinaten\n",
    "\n",
    "### 🔍 **Analyseziele**\n",
    "1. **Zeitreihenanalyse** der Mietpreisentwicklung (2019 → 2022 → 2025)\n",
    "2. **Bezirks- und Ortsteilvergleiche** mit statistischen Tests\n",
    "3. **🆕 PLZ-Level-Analysen** mit präziser Geolocation\n",
    "4. **Explorative Datenanalyse** mit umfassenden Visualisierungen\n",
    "5. **Preisvorhersagemodelle** mit Machine Learning\n",
    "6. **🆕 Geospatiale Analysen** mit echten Koordinaten\n",
    "7. **Handlungsempfehlungen** für Stakeholder\n",
    "\n",
    "### 📋 **Erweiterte Datenstruktur**\n",
    "```python\n",
    "# Basis-Spalten aus der Pipeline:\n",
    "base_columns = ['price', 'size', 'district', 'rooms', 'year', 'dataset_id', 'source']\n",
    "\n",
    "# Neue PLZ-Enhancement-Spalten:\n",
    "enhanced_columns = ['plz', 'ortsteil', 'bezirk', 'lat', 'lon', 'wol']\n",
    "```\n",
    "\n",
    "---\n",
    "**Teil der modularen Berlin Housing Market Analysis**  \n",
    "**Datum:** 4. Juli 2025  \n",
    "**Version:** 2.0 (Angepasst an neue Pipeline)  \n",
    "**Status:** ✅ Bereit für bereinigte Daten"
   ]
  },
  {
   "cell_type": "markdown",
   "id": "2a2d5df1",
   "metadata": {},
   "source": [
    "## 1. Import Required Libraries\n",
    "Importieren der erforderlichen Python-Bibliotheken für Datenverarbeitung, Analyse und Visualisierung."
   ]
  },
  {
   "cell_type": "code",
   "execution_count": 2,
   "id": "1cf07a03",
   "metadata": {},
   "outputs": [
    {
     "name": "stdout",
     "output_type": "stream",
     "text": [
      "Alle Bibliotheken erfolgreich importiert!\n",
      "Pandas Version: 2.3.0\n",
      "NumPy Version: 2.3.0\n",
      "Matplotlib Version: 3.10.3\n",
      "Seaborn Version: 0.13.2\n",
      "Verarbeitung gestartet am: 2025-07-07 10:48:48\n"
     ]
    }
   ],
   "source": [
    "# Datenmanipulation und -analyse\n",
    "import pandas as pd\n",
    "import numpy as np\n",
    "import warnings\n",
    "warnings.filterwarnings('ignore')\n",
    "\n",
    "# Visualisierung\n",
    "import matplotlib.pyplot as plt\n",
    "import matplotlib\n",
    "import seaborn as sns\n",
    "import plotly.express as px\n",
    "import plotly.graph_objects as go\n",
    "from plotly.subplots import make_subplots\n",
    "\n",
    "# Statistik und Machine Learning\n",
    "from scipy import stats\n",
    "from sklearn.model_selection import train_test_split\n",
    "from sklearn.linear_model import LinearRegression\n",
    "from sklearn.ensemble import RandomForestRegressor\n",
    "from sklearn.metrics import r2_score, mean_squared_error, mean_absolute_error\n",
    "\n",
    "# Textverarbeitung und Regex\n",
    "import re\n",
    "from collections import Counter\n",
    "\n",
    "# Datum und Zeit\n",
    "from datetime import datetime\n",
    "\n",
    "# Konfiguration\n",
    "pd.set_option('display.max_columns', None)\n",
    "pd.set_option('display.width', 1000)\n",
    "pd.set_option('display.max_rows', 50)\n",
    "plt.style.use('seaborn-v0_8')\n",
    "\n",
    "print(\"Alle Bibliotheken erfolgreich importiert!\")\n",
    "print(f\"Pandas Version: {pd.__version__}\")\n",
    "print(f\"NumPy Version: {np.__version__}\")\n",
    "print(f\"Matplotlib Version: {matplotlib.__version__}\")\n",
    "print(f\"Seaborn Version: {sns.__version__}\")\n",
    "print(f\"Verarbeitung gestartet am: {datetime.now().strftime('%Y-%m-%d %H:%M:%S')}\")"
   ]
  },
  {
   "cell_type": "markdown",
   "id": "5ca44272",
   "metadata": {},
   "source": [
    "## 2. Laden der standardisierten Daten\n",
    "### 🎯 **Bereinigte und standardisierte Datensätze aus der Pipeline**\n",
    "\n",
    "Die Datenbereinigung wurde bereits in den spezialisierten Clean-Notebooks durchgeführt:\n",
    "- **Einheitliche Spaltenstruktur:** `price`, `size`, `district`, `rooms`, `year`, `dataset_id`, `source`\n",
    "- **Harmonisierte Filter:** Preis 100€-10.000€, Größe 10m²-500m²\n",
    "- **Qualitätsvalidierung:** Schema-Prüfung und Konsistenz-Tests durchgeführt"
   ]
  },
  {
   "cell_type": "code",
   "execution_count": 13,
   "id": "a1a7269b",
   "metadata": {},
   "outputs": [
    {
     "name": "stdout",
     "output_type": "stream",
     "text": [
      "================================================================================\n",
      "LADEN DES FINALEN KOMBINIERTEN DATASETS\n",
      "================================================================================\n",
      "🎯 Kombiniertes finales Dataset mit PLZ-Enhancement aus der Pipeline:\n",
      "✅ Dataset geladen: 17,487 Zeilen, 13 Spalten\n",
      "📊 Verfügbare Spalten: ['price', 'size', 'district', 'rooms', 'year', 'dataset_id', 'source', 'wol', 'plz', 'ortsteil', 'bezirk', 'lat', 'lon']\n",
      "\n",
      "=== DATASET-ÜBERSICHT ===\n",
      "Zeitspanne: 2019 - 2025\n",
      "Anzahl Jahre: 3\n",
      "Verfügbare Jahre: [np.int64(2019), np.int64(2022), np.int64(2025)]\n",
      "\n",
      "Bezirke: 87\n",
      "Datenquellen: 3\n",
      "Quellen: ['current', 'historical', 'recent']\n",
      "\n",
      "=== DATENQUALITÄT ===\n",
      "Gesamtzeilen: 17,487\n",
      "=== STANDARDSPALTEN ===\n",
      "  price: 17,487/17,487 (100.0% vollständig)\n",
      "  size: 17,487/17,487 (100.0% vollständig)\n",
      "  district: 17,487/17,487 (100.0% vollständig)\n",
      "  year: 17,487/17,487 (100.0% vollständig)\n",
      "  dataset_id: 17,487/17,487 (100.0% vollständig)\n",
      "  source: 17,487/17,487 (100.0% vollständig)\n",
      "\n",
      "=== PLZ-ENHANCEMENT-SPALTEN ===\n",
      "  plz: 4,492/17,487 (25.7% vollständig)\n",
      "  ortsteil: 4,490/17,487 (25.7% vollständig)\n",
      "  bezirk: 4,490/17,487 (25.7% vollständig)\n",
      "  lat: 4,375/17,487 (25.0% vollständig)\n",
      "  lon: 4,375/17,487 (25.0% vollständig)\n",
      "  wol: 4,490/17,487 (25.7% vollständig)\n",
      "\n",
      "=== PREIS- UND GRÖSSENSTATISTIKEN ===\n",
      "Preis-Statistik:\n",
      "  Min: 150.00€\n",
      "  Max: 9990.00€\n",
      "  Median: 931.00€\n",
      "  Mittelwert: 1161.21€\n",
      "Größen-Statistik:\n",
      "  Min: 10.0m²\n",
      "  Max: 482.0m²\n",
      "  Median: 69.0m²\n",
      "  Mittelwert: 77.5m²\n",
      "\n",
      "=== DATENVERTEILUNG NACH JAHREN ===\n",
      "  2019: 10,387 Einträge (59.4%)\n",
      "  2022: 2,676 Einträge (15.3%)\n",
      "  2025: 4,424 Einträge (25.3%)\n",
      "\n",
      "=== DATENVERTEILUNG NACH QUELLEN ===\n",
      "  historical: 10,387 Einträge (59.4%)\n",
      "  recent: 4,424 Einträge (25.3%)\n",
      "  current: 2,676 Einträge (15.3%)\n",
      "\n",
      "✅ Dataset erfolgreich geladen und validiert!\n",
      "🚀 Bereit für Hauptanalyse mit 17,487 bereinigten Datenpunkten\n"
     ]
    }
   ],
   "source": [
    "# Lade das finale kombinierte Dataset aus der Pipeline\n",
    "print(\"=\" * 80)\n",
    "print(\"LADEN DES FINALEN KOMBINIERTEN DATASETS\")\n",
    "print(\"=\" * 80)\n",
    "\n",
    "# Lade das finale bereinigte und kombinierte Dataset mit PLZ-Enhancement\n",
    "print(\"🎯 Kombiniertes finales Dataset mit PLZ-Enhancement aus der Pipeline:\")\n",
    "combined_df = pd.read_csv('data/processed/berlin_housing_combined_enriched_final.csv')\n",
    "\n",
    "print(f\"✅ Dataset geladen: {combined_df.shape[0]:,} Zeilen, {combined_df.shape[1]} Spalten\")\n",
    "print(f\"📊 Verfügbare Spalten: {list(combined_df.columns)}\")\n",
    "\n",
    "# Grundlegende Informationen\n",
    "print(f\"\\n=== DATASET-ÜBERSICHT ===\")\n",
    "print(f\"Zeitspanne: {combined_df['year'].min()} - {combined_df['year'].max()}\")\n",
    "print(f\"Anzahl Jahre: {combined_df['year'].nunique()}\")\n",
    "print(f\"Verfügbare Jahre: {sorted(combined_df['year'].unique())}\")\n",
    "\n",
    "print(f\"\\nBezirke: {combined_df['district'].nunique()}\")\n",
    "print(f\"Datenquellen: {combined_df['dataset_id'].nunique()}\")\n",
    "print(f\"Quellen: {sorted(combined_df['dataset_id'].unique())}\")\n",
    "\n",
    "# Datenqualität prüfen\n",
    "print(f\"\\n=== DATENQUALITÄT ===\")\n",
    "total_rows = len(combined_df)\n",
    "print(f\"Gesamtzeilen: {total_rows:,}\")\n",
    "\n",
    "# Prüfe Vollständigkeit der Standardspalten und PLZ-Enhancement-Spalten\n",
    "standard_columns = ['price', 'size', 'district', 'year', 'dataset_id', 'source']\n",
    "enhanced_columns = ['plz', 'ortsteil', 'bezirk', 'lat', 'lon', 'wol']\n",
    "\n",
    "print(\"=== STANDARDSPALTEN ===\")\n",
    "for col in standard_columns:\n",
    "    if col in combined_df.columns:\n",
    "        non_null = combined_df[col].notna().sum()\n",
    "        completeness = (non_null / total_rows) * 100\n",
    "        print(f\"  {col}: {non_null:,}/{total_rows:,} ({completeness:.1f}% vollständig)\")\n",
    "    else:\n",
    "        print(f\"  ❌ {col}: Spalte nicht gefunden!\")\n",
    "\n",
    "print(\"\\n=== PLZ-ENHANCEMENT-SPALTEN ===\")\n",
    "for col in enhanced_columns:\n",
    "    if col in combined_df.columns:\n",
    "        non_null = combined_df[col].notna().sum()\n",
    "        completeness = (non_null / total_rows) * 100\n",
    "        print(f\"  {col}: {non_null:,}/{total_rows:,} ({completeness:.1f}% vollständig)\")\n",
    "    else:\n",
    "        print(f\"  ⚠️  {col}: Spalte nicht gefunden (möglicherweise nicht verfügbar)\")\n",
    "\n",
    "# Preis- und Größenstatistiken\n",
    "print(f\"\\n=== PREIS- UND GRÖSSENSTATISTIKEN ===\")\n",
    "if 'price' in combined_df.columns:\n",
    "    print(f\"Preis-Statistik:\")\n",
    "    print(f\"  Min: {combined_df['price'].min():.2f}€\")\n",
    "    print(f\"  Max: {combined_df['price'].max():.2f}€\")\n",
    "    print(f\"  Median: {combined_df['price'].median():.2f}€\")\n",
    "    print(f\"  Mittelwert: {combined_df['price'].mean():.2f}€\")\n",
    "\n",
    "if 'size' in combined_df.columns:\n",
    "    print(f\"Größen-Statistik:\")\n",
    "    print(f\"  Min: {combined_df['size'].min():.1f}m²\")\n",
    "    print(f\"  Max: {combined_df['size'].max():.1f}m²\")\n",
    "    print(f\"  Median: {combined_df['size'].median():.1f}m²\")\n",
    "    print(f\"  Mittelwert: {combined_df['size'].mean():.1f}m²\")\n",
    "\n",
    "# Verteilung nach Jahren\n",
    "print(f\"\\n=== DATENVERTEILUNG NACH JAHREN ===\")\n",
    "if 'year' in combined_df.columns:\n",
    "    year_distribution = combined_df['year'].value_counts().sort_index()\n",
    "    for year, count in year_distribution.items():\n",
    "        percentage = (count / total_rows) * 100\n",
    "        print(f\"  {year}: {count:,} Einträge ({percentage:.1f}%)\")\n",
    "\n",
    "# Verteilung nach Datenquellen\n",
    "print(f\"\\n=== DATENVERTEILUNG NACH QUELLEN ===\")\n",
    "if 'dataset_id' in combined_df.columns:\n",
    "    source_distribution = combined_df['dataset_id'].value_counts()\n",
    "    for source, count in source_distribution.items():\n",
    "        percentage = (count / total_rows) * 100\n",
    "        print(f\"  {source}: {count:,} Einträge ({percentage:.1f}%)\")\n",
    "\n",
    "print(f\"\\n✅ Dataset erfolgreich geladen und validiert!\")\n",
    "print(f\"🚀 Bereit für Hauptanalyse mit {total_rows:,} bereinigten Datenpunkten\")"
   ]
  },
  {
   "cell_type": "markdown",
   "id": "d0eb4242",
   "metadata": {},
   "source": [
    "### 🔍 **Datenstruktur-Validierung**\n",
    "Prüfe die standardisierte Struktur und Konsistenz der Pipeline-Daten."
   ]
  },
  {
   "cell_type": "code",
   "execution_count": 7,
   "id": "6d0cfcba",
   "metadata": {},
   "outputs": [
    {
     "name": "stdout",
     "output_type": "stream",
     "text": [
      "================================================================================\n",
      "PIPELINE-DATEN VALIDIERUNG UND STRUKTUR-ANALYSE\n",
      "================================================================================\n",
      "\n",
      "🔍 SCHEMA-VALIDIERUNG\n",
      "Erwartete Standardspalten: ['price', 'size', 'district', 'rooms', 'year', 'dataset_id', 'source']\n",
      "Vorhandene Spalten: ['price', 'size', 'district', 'rooms', 'year', 'dataset_id', 'source', 'wol', 'plz', 'ortsteil', 'bezirk', 'lat', 'lon']\n",
      "✅ Alle Standardspalten vorhanden\n",
      "📋 Zusätzliche Spalten: {'lat', 'bezirk', 'plz', 'ortsteil', 'wol', 'lon'}\n",
      "\n",
      "📊 DATENTYP-VALIDIERUNG\n",
      "  ✅ price: float64\n",
      "  ✅ size: float64\n",
      "  ✅ district: object\n",
      "  ✅ year: int64\n",
      "  ✅ dataset_id: object\n",
      "  ✅ source: object\n",
      "\n",
      "🎯 FILTER-VALIDIERUNG\n",
      "Prüfe ob Pipeline-Filter korrekt angewendet wurden:\n",
      "  Preis-Filter: 150.00€ - 9990.00€\n",
      "  ✅ Preis-Filter korrekt angewendet (100€ - 10.000€)\n",
      "  Größen-Filter: 10.0m² - 482.0m²\n",
      "  ✅ Größen-Filter korrekt angewendet (10m² - 500m²)\n",
      "\n",
      "🏘️ BEZIRK-VALIDIERUNG\n",
      "Anzahl eindeutiger Bezirke: 87\n",
      "Top 5 Bezirke:\n",
      "  Mitte: 1,923 Einträge\n",
      "  Pankow: 1,189 Einträge\n",
      "  Neukölln: 904 Einträge\n",
      "  Spandau: 837 Einträge\n",
      "  Tiergarten: 832 Einträge\n",
      "  ✅ Alle Bezirke gültig\n",
      "\n",
      "📅 JAHR-VALIDIERUNG\n",
      "Verfügbare Jahre: [np.int64(2019), np.int64(2022), np.int64(2025)]\n",
      "  2019: 10,387 Einträge\n",
      "  2022: 2,676 Einträge\n",
      "  2025: 4,424 Einträge\n",
      "\n",
      "🔗 DATASET-ID VALIDIERUNG\n",
      "Vorhandene Dataset-IDs: ['historical', 'recent', 'current']\n",
      "Erwartete Dataset-IDs: ['historical', 'current', 'recent']\n",
      "  historical: 10,387 Einträge (59.4%)\n",
      "  recent: 4,424 Einträge (25.3%)\n",
      "  current: 2,676 Einträge (15.3%)\n",
      "\n",
      "================================================================================\n",
      "VALIDIERUNG ZUSAMMENFASSUNG\n",
      "================================================================================\n",
      "✅ Dataset erfolgreich aus Pipeline geladen\n",
      "📊 Gesamtdatensätze: 17,487\n",
      "🗓️ Zeitspanne: 2019 - 2025\n",
      "🏘️ Bezirke: 87\n",
      "💰 Preisspanne: 150€ - 9990€\n",
      "📏 Größenspanne: 10m² - 482m²\n",
      "🚀 Bereit für umfassende Analyse!\n"
     ]
    }
   ],
   "source": [
    "# Detaillierte Validierung der Pipeline-Daten\n",
    "print(\"=\" * 80)\n",
    "print(\"PIPELINE-DATEN VALIDIERUNG UND STRUKTUR-ANALYSE\")\n",
    "print(\"=\" * 80)\n",
    "\n",
    "# Schema-Validierung\n",
    "print(f\"\\n🔍 SCHEMA-VALIDIERUNG\")\n",
    "expected_columns = ['price', 'size', 'district', 'rooms', 'year', 'dataset_id', 'source']\n",
    "actual_columns = list(combined_df.columns)\n",
    "\n",
    "print(f\"Erwartete Standardspalten: {expected_columns}\")\n",
    "print(f\"Vorhandene Spalten: {actual_columns}\")\n",
    "\n",
    "# Prüfe ob alle Standardspalten vorhanden sind\n",
    "missing_columns = set(expected_columns) - set(actual_columns)\n",
    "extra_columns = set(actual_columns) - set(expected_columns)\n",
    "\n",
    "if not missing_columns:\n",
    "    print(\"✅ Alle Standardspalten vorhanden\")\n",
    "else:\n",
    "    print(f\"❌ Fehlende Spalten: {missing_columns}\")\n",
    "\n",
    "if extra_columns:\n",
    "    print(f\"📋 Zusätzliche Spalten: {extra_columns}\")\n",
    "\n",
    "# Datentyp-Validierung\n",
    "print(f\"\\n📊 DATENTYP-VALIDIERUNG\")\n",
    "expected_dtypes = {\n",
    "    'price': 'float64',\n",
    "    'size': 'float64', \n",
    "    'district': 'object',\n",
    "    'year': 'int64',\n",
    "    'dataset_id': 'object',\n",
    "    'source': 'object'\n",
    "}\n",
    "\n",
    "for col, expected_dtype in expected_dtypes.items():\n",
    "    if col in combined_df.columns:\n",
    "        actual_dtype = str(combined_df[col].dtype)\n",
    "        if actual_dtype == expected_dtype or (expected_dtype == 'object' and actual_dtype in ['object', 'string']):\n",
    "            print(f\"  ✅ {col}: {actual_dtype}\")\n",
    "        else:\n",
    "            print(f\"  ⚠️ {col}: {actual_dtype} (erwartet: {expected_dtype})\")\n",
    "\n",
    "# Filter-Validierung (prüfe ob Pipeline-Filter korrekt angewendet wurden)\n",
    "print(f\"\\n🎯 FILTER-VALIDIERUNG\")\n",
    "print(\"Prüfe ob Pipeline-Filter korrekt angewendet wurden:\")\n",
    "\n",
    "if 'price' in combined_df.columns:\n",
    "    price_min, price_max = combined_df['price'].min(), combined_df['price'].max()\n",
    "    print(f\"  Preis-Filter: {price_min:.2f}€ - {price_max:.2f}€\")\n",
    "    if price_min >= 100 and price_max <= 10000:\n",
    "        print(\"  ✅ Preis-Filter korrekt angewendet (100€ - 10.000€)\")\n",
    "    else:\n",
    "        print(\"  ⚠️ Preis-Filter möglicherweise nicht korrekt angewendet\")\n",
    "\n",
    "if 'size' in combined_df.columns:\n",
    "    size_min, size_max = combined_df['size'].min(), combined_df['size'].max()\n",
    "    print(f\"  Größen-Filter: {size_min:.1f}m² - {size_max:.1f}m²\")\n",
    "    if size_min >= 10 and size_max <= 500:\n",
    "        print(\"  ✅ Größen-Filter korrekt angewendet (10m² - 500m²)\")\n",
    "    else:\n",
    "        print(\"  ⚠️ Größen-Filter möglicherweise nicht korrekt angewendet\")\n",
    "\n",
    "# Bezirk-Validierung\n",
    "print(f\"\\n🏘️ BEZIRK-VALIDIERUNG\")\n",
    "if 'district' in combined_df.columns:\n",
    "    districts = combined_df['district'].value_counts()\n",
    "    print(f\"Anzahl eindeutiger Bezirke: {len(districts)}\")\n",
    "    print(f\"Top 5 Bezirke:\")\n",
    "    for district, count in districts.head().items():\n",
    "        print(f\"  {district}: {count:,} Einträge\")\n",
    "    \n",
    "    # Prüfe auf null/leere Bezirke\n",
    "    null_districts = combined_df['district'].isnull().sum()\n",
    "    empty_districts = (combined_df['district'] == '').sum()\n",
    "    if null_districts > 0 or empty_districts > 0:\n",
    "        print(f\"  ⚠️ Null/Leere Bezirke: {null_districts + empty_districts}\")\n",
    "    else:\n",
    "        print(\"  ✅ Alle Bezirke gültig\")\n",
    "\n",
    "# Jahr-Validierung\n",
    "print(f\"\\n📅 JAHR-VALIDIERUNG\")\n",
    "if 'year' in combined_df.columns:\n",
    "    years = sorted(combined_df['year'].unique())\n",
    "    print(f\"Verfügbare Jahre: {years}\")\n",
    "    year_counts = combined_df['year'].value_counts().sort_index()\n",
    "    for year, count in year_counts.items():\n",
    "        print(f\"  {year}: {count:,} Einträge\")\n",
    "\n",
    "# Dataset-ID Validierung\n",
    "print(f\"\\n🔗 DATASET-ID VALIDIERUNG\")\n",
    "if 'dataset_id' in combined_df.columns:\n",
    "    dataset_ids = combined_df['dataset_id'].value_counts()\n",
    "    expected_ids = ['historical', 'current', 'recent']\n",
    "    print(f\"Vorhandene Dataset-IDs: {list(dataset_ids.index)}\")\n",
    "    print(f\"Erwartete Dataset-IDs: {expected_ids}\")\n",
    "    \n",
    "    for dataset_id, count in dataset_ids.items():\n",
    "        percentage = (count / len(combined_df)) * 100\n",
    "        print(f\"  {dataset_id}: {count:,} Einträge ({percentage:.1f}%)\")\n",
    "\n",
    "# Zusammenfassung\n",
    "print(f\"\\n{'='*80}\")\n",
    "print(\"VALIDIERUNG ZUSAMMENFASSUNG\")\n",
    "print(f\"{'='*80}\")\n",
    "print(f\"✅ Dataset erfolgreich aus Pipeline geladen\")\n",
    "print(f\"📊 Gesamtdatensätze: {len(combined_df):,}\")\n",
    "print(f\"🗓️ Zeitspanne: {combined_df['year'].min()} - {combined_df['year'].max()}\")\n",
    "print(f\"🏘️ Bezirke: {combined_df['district'].nunique()}\")\n",
    "print(f\"💰 Preisspanne: {combined_df['price'].min():.0f}€ - {combined_df['price'].max():.0f}€\")\n",
    "print(f\"📏 Größenspanne: {combined_df['size'].min():.0f}m² - {combined_df['size'].max():.0f}m²\")\n",
    "print(f\"🚀 Bereit für umfassende Analyse!\")"
   ]
  },
  {
   "cell_type": "code",
   "execution_count": 8,
   "id": "e887ee2d",
   "metadata": {},
   "outputs": [
    {
     "name": "stdout",
     "output_type": "stream",
     "text": [
      "\n",
      "================================================================================\n",
      "PLZ-ENHANCEMENT ANALYSEFUNKTIONEN\n",
      "================================================================================\n",
      "🚀 Führe PLZ-Enhancement-Analysen durch...\n",
      "🔍 PLZ-ENHANCEMENT QUALITÄTSANALYSE\n",
      "==================================================\n",
      "PLZ verfügbar: 4,492/17,487 (25.7%)\n",
      "\n",
      "Top 10 PLZ nach Anzahl Immobilien:\n",
      "  10315.0: 127 Immobilien\n",
      "  13593.0: 113 Immobilien\n",
      "  10245.0: 107 Immobilien\n",
      "  12627.0: 100 Immobilien\n",
      "  12555.0: 99 Immobilien\n",
      "  13125.0: 84 Immobilien\n",
      "  12629.0: 79 Immobilien\n",
      "  10243.0: 73 Immobilien\n",
      "  13409.0: 72 Immobilien\n",
      "  13587.0: 67 Immobilien\n",
      "\n",
      "Koordinaten verfügbar: 4,375/17,487 (25.0%)\n",
      "Koordinaten-Bereich:\n",
      "  Breitengrad: 52.3667 bis 52.6333\n",
      "  Längengrad: 13.1333 bis 13.6833\n",
      "\n",
      "Ortsteile verfügbar: 4,490/17,487 (25.7%)\n",
      "Eindeutige Ortsteile: 78\n",
      "\n",
      "Top 10 Ortsteile nach Anzahl Immobilien:\n",
      "  Friedrichshain: 241 Immobilien\n",
      "  Charlottenburg: 220 Immobilien\n",
      "  Hellersdorf: 189 Immobilien\n",
      "  Hakenfelde: 157 Immobilien\n",
      "  Mitte: 146 Immobilien\n",
      "  Wilhelmstadt: 136 Immobilien\n",
      "  Friedrichsfelde: 136 Immobilien\n",
      "  Französisch Buchholz: 135 Immobilien\n",
      "  Neukölln: 133 Immobilien\n",
      "  Moabit: 133 Immobilien\n",
      "\n",
      "💰 PREIS-ANALYSE NACH PLZ (Top 10)\n",
      "==================================================\n",
      "Teuerste PLZ (Durchschnittspreis):\n",
      "   1. PLZ 10117.0: 2269.47€ (Median: 2043.00€, n=49)\n",
      "   2. PLZ 10711.0: 2046.60€ (Median: 2319.40€, n=14)\n",
      "   3. PLZ 14195.0: 1944.78€ (Median: 1675.00€, n=16)\n",
      "   4. PLZ 10719.0: 1854.77€ (Median: 1989.00€, n=7)\n",
      "   5. PLZ 10963.0: 1840.81€ (Median: 1485.00€, n=30)\n",
      "   6. PLZ 12047.0: 1833.98€ (Median: 1400.00€, n=17)\n",
      "   7. PLZ 10999.0: 1775.21€ (Median: 1558.20€, n=10)\n",
      "   8. PLZ 14193.0: 1770.18€ (Median: 1350.00€, n=13)\n",
      "   9. PLZ 10789.0: 1740.00€ (Median: 2000.00€, n=5)\n",
      "  10. PLZ 10119.0: 1731.55€ (Median: 1470.00€, n=10)\n",
      "\n",
      "Günstigste PLZ (Durchschnittspreis):\n",
      "   1. PLZ 13589.0: 507.32€ (Median: 461.65€, n=46)\n",
      "   2. PLZ 12619.0: 503.52€ (Median: 423.80€, n=10)\n",
      "   3. PLZ 12059.0: 495.14€ (Median: 535.81€, n=6)\n",
      "   4. PLZ 12685.0: 480.22€ (Median: 400.68€, n=18)\n",
      "   5. PLZ 13583.0: 468.92€ (Median: 473.06€, n=32)\n",
      "   6. PLZ 10409.0: 468.91€ (Median: 412.72€, n=15)\n",
      "   7. PLZ 13593.0: 453.61€ (Median: 450.00€, n=113)\n",
      "   8. PLZ 12679.0: 435.53€ (Median: 406.66€, n=14)\n",
      "   9. PLZ 13439.0: 405.10€ (Median: 398.00€, n=15)\n",
      "  10. PLZ 13435.0: 397.74€ (Median: 386.68€, n=28)\n",
      "\n",
      "🏘️  PREIS-ANALYSE NACH ORTSTEIL (Top 10)\n",
      "==================================================\n",
      "Teuerste Ortsteile (Durchschnittspreis):\n",
      "   1. Grunewald: 2046.60€ (Median: 2319.40€, n=14)\n",
      "   2. Mitte: 1792.52€ (Median: 1612.50€, n=146)\n",
      "   3. Tiergarten: 1675.45€ (Median: 1550.00€, n=61)\n",
      "   4. Schmargendorf: 1465.95€ (Median: 1309.25€, n=66)\n",
      "   5. Wannsee: 1454.46€ (Median: 1371.83€, n=34)\n",
      "   6. Friedrichshain: 1426.45€ (Median: 1295.00€, n=241)\n",
      "   7. Kreuzberg: 1421.46€ (Median: 1300.00€, n=75)\n",
      "   8. Dahlem: 1416.95€ (Median: 1187.50€, n=12)\n",
      "   9. Charlottenburg: 1327.44€ (Median: 1240.00€, n=220)\n",
      "  10. Moabit: 1240.73€ (Median: 1179.00€, n=133)\n",
      "\n",
      "Günstigste Ortsteile (Durchschnittspreis):\n",
      "   1. Siemensstadt: 640.63€ (Median: 573.24€, n=51)\n",
      "   2. Wittenau: 631.37€ (Median: 529.00€, n=97)\n",
      "   3. Hellersdorf: 627.05€ (Median: 639.00€, n=189)\n",
      "   4. Buckow: 614.50€ (Median: 558.67€, n=40)\n",
      "   5. Neu-Hohenschönhausen: 596.97€ (Median: 629.50€, n=22)\n",
      "   6. Falkenberg: 555.17€ (Median: 578.65€, n=13)\n",
      "   7. Wilhelmstadt: 535.31€ (Median: 459.00€, n=136)\n",
      "   8. Marzahn: 521.95€ (Median: 458.20€, n=59)\n",
      "   9. Falkenhagener Feld: 468.92€ (Median: 473.06€, n=32)\n",
      "  10. Märkisches Viertel: 400.31€ (Median: 398.00€, n=43)\n",
      "\n",
      "✅ PLZ-Enhancement-Analysen abgeschlossen!\n",
      "📊 Geolocation-Qualität: PLZ 25.7%, Koordinaten 25.0%, Ortsteile 25.7%\n"
     ]
    }
   ],
   "source": [
    "# ===================================================================\n",
    "# PLZ-SPEZIFISCHE ANALYSEFUNKTIONEN\n",
    "# ===================================================================\n",
    "print(\"\\n\" + \"=\" * 80)\n",
    "print(\"PLZ-ENHANCEMENT ANALYSEFUNKTIONEN\")\n",
    "print(\"=\" * 80)\n",
    "\n",
    "def analyze_plz_quality(df):\n",
    "    \"\"\"Analysiere die Qualität der PLZ-Enhancement-Daten\"\"\"\n",
    "    print(\"🔍 PLZ-ENHANCEMENT QUALITÄTSANALYSE\")\n",
    "    print(\"=\" * 50)\n",
    "    \n",
    "    total_rows = len(df)\n",
    "    \n",
    "    # PLZ-Abdeckung\n",
    "    if 'plz' in df.columns:\n",
    "        plz_available = df['plz'].notna().sum()\n",
    "        plz_coverage = (plz_available / total_rows) * 100\n",
    "        print(f\"PLZ verfügbar: {plz_available:,}/{total_rows:,} ({plz_coverage:.1f}%)\")\n",
    "        \n",
    "        # Top PLZ\n",
    "        if plz_available > 0:\n",
    "            print(\"\\nTop 10 PLZ nach Anzahl Immobilien:\")\n",
    "            top_plz = df['plz'].value_counts().head(10)\n",
    "            for plz, count in top_plz.items():\n",
    "                print(f\"  {plz}: {count:,} Immobilien\")\n",
    "    \n",
    "    # Koordinaten-Abdeckung\n",
    "    if 'lat' in df.columns and 'lon' in df.columns:\n",
    "        coords_available = df[['lat', 'lon']].notna().all(axis=1).sum()\n",
    "        coords_coverage = (coords_available / total_rows) * 100\n",
    "        print(f\"\\nKoordinaten verfügbar: {coords_available:,}/{total_rows:,} ({coords_coverage:.1f}%)\")\n",
    "        \n",
    "        if coords_available > 0:\n",
    "            print(f\"Koordinaten-Bereich:\")\n",
    "            print(f\"  Breitengrad: {df['lat'].min():.4f} bis {df['lat'].max():.4f}\")\n",
    "            print(f\"  Längengrad: {df['lon'].min():.4f} bis {df['lon'].max():.4f}\")\n",
    "    \n",
    "    # Ortsteil-Abdeckung\n",
    "    if 'ortsteil' in df.columns:\n",
    "        ortsteil_available = df['ortsteil'].notna().sum()\n",
    "        ortsteil_coverage = (ortsteil_available / total_rows) * 100\n",
    "        print(f\"\\nOrtsteile verfügbar: {ortsteil_available:,}/{total_rows:,} ({ortsteil_coverage:.1f}%)\")\n",
    "        \n",
    "        if ortsteil_available > 0:\n",
    "            unique_ortsteile = df['ortsteil'].nunique()\n",
    "            print(f\"Eindeutige Ortsteile: {unique_ortsteile}\")\n",
    "            \n",
    "            print(\"\\nTop 10 Ortsteile nach Anzahl Immobilien:\")\n",
    "            top_ortsteile = df['ortsteil'].value_counts().head(10)\n",
    "            for ortsteil, count in top_ortsteile.items():\n",
    "                print(f\"  {ortsteil}: {count:,} Immobilien\")\n",
    "    \n",
    "    return {\n",
    "        'plz_coverage': plz_coverage if 'plz' in df.columns else 0,\n",
    "        'coords_coverage': coords_coverage if 'lat' in df.columns and 'lon' in df.columns else 0,\n",
    "        'ortsteil_coverage': ortsteil_coverage if 'ortsteil' in df.columns else 0\n",
    "    }\n",
    "\n",
    "def analyze_price_by_plz(df, top_n=10):\n",
    "    \"\"\"Analysiere Preise nach PLZ\"\"\"\n",
    "    if 'plz' not in df.columns or 'price' not in df.columns:\n",
    "        print(\"⚠️  PLZ oder Preis-Spalte nicht verfügbar\")\n",
    "        return None\n",
    "    \n",
    "    print(f\"\\n💰 PREIS-ANALYSE NACH PLZ (Top {top_n})\")\n",
    "    print(\"=\" * 50)\n",
    "    \n",
    "    # Berechne Durchschnittspreise pro PLZ\n",
    "    plz_prices = df.groupby('plz').agg({\n",
    "        'price': ['count', 'mean', 'median', 'std']\n",
    "    }).round(2)\n",
    "    \n",
    "    plz_prices.columns = ['anzahl', 'mittelwert', 'median', 'std']\n",
    "    plz_prices = plz_prices[plz_prices['anzahl'] >= 5]  # Mindestens 5 Immobilien\n",
    "    plz_prices = plz_prices.sort_values('mittelwert', ascending=False)\n",
    "    \n",
    "    print(\"Teuerste PLZ (Durchschnittspreis):\")\n",
    "    for i, (plz, data) in enumerate(plz_prices.head(top_n).iterrows()):\n",
    "        print(f\"  {i+1:2d}. PLZ {plz}: {data['mittelwert']:.2f}€ (Median: {data['median']:.2f}€, n={int(data['anzahl'])})\")\n",
    "    \n",
    "    print(\"\\nGünstigste PLZ (Durchschnittspreis):\")\n",
    "    for i, (plz, data) in enumerate(plz_prices.tail(top_n).iterrows()):\n",
    "        print(f\"  {i+1:2d}. PLZ {plz}: {data['mittelwert']:.2f}€ (Median: {data['median']:.2f}€, n={int(data['anzahl'])})\")\n",
    "    \n",
    "    return plz_prices\n",
    "\n",
    "def analyze_price_by_ortsteil(df, top_n=10):\n",
    "    \"\"\"Analysiere Preise nach Ortsteil\"\"\"\n",
    "    if 'ortsteil' not in df.columns or 'price' not in df.columns:\n",
    "        print(\"⚠️  Ortsteil oder Preis-Spalte nicht verfügbar\")\n",
    "        return None\n",
    "    \n",
    "    print(f\"\\n🏘️  PREIS-ANALYSE NACH ORTSTEIL (Top {top_n})\")\n",
    "    print(\"=\" * 50)\n",
    "    \n",
    "    # Berechne Durchschnittspreise pro Ortsteil\n",
    "    ortsteil_prices = df.groupby('ortsteil').agg({\n",
    "        'price': ['count', 'mean', 'median', 'std']\n",
    "    }).round(2)\n",
    "    \n",
    "    ortsteil_prices.columns = ['anzahl', 'mittelwert', 'median', 'std']\n",
    "    ortsteil_prices = ortsteil_prices[ortsteil_prices['anzahl'] >= 10]  # Mindestens 10 Immobilien\n",
    "    ortsteil_prices = ortsteil_prices.sort_values('mittelwert', ascending=False)\n",
    "    \n",
    "    print(\"Teuerste Ortsteile (Durchschnittspreis):\")\n",
    "    for i, (ortsteil, data) in enumerate(ortsteil_prices.head(top_n).iterrows()):\n",
    "        print(f\"  {i+1:2d}. {ortsteil}: {data['mittelwert']:.2f}€ (Median: {data['median']:.2f}€, n={int(data['anzahl'])})\")\n",
    "    \n",
    "    print(\"\\nGünstigste Ortsteile (Durchschnittspreis):\")\n",
    "    for i, (ortsteil, data) in enumerate(ortsteil_prices.tail(top_n).iterrows()):\n",
    "        print(f\"  {i+1:2d}. {ortsteil}: {data['mittelwert']:.2f}€ (Median: {data['median']:.2f}€, n={int(data['anzahl'])})\")\n",
    "    \n",
    "    return ortsteil_prices\n",
    "\n",
    "# Führe PLZ-Enhancement-Analysen durch\n",
    "print(\"🚀 Führe PLZ-Enhancement-Analysen durch...\")\n",
    "quality_stats = analyze_plz_quality(combined_df)\n",
    "plz_price_analysis = analyze_price_by_plz(combined_df)\n",
    "ortsteil_price_analysis = analyze_price_by_ortsteil(combined_df)\n",
    "\n",
    "print(\"\\n✅ PLZ-Enhancement-Analysen abgeschlossen!\")\n",
    "print(f\"📊 Geolocation-Qualität: PLZ {quality_stats['plz_coverage']:.1f}%, Koordinaten {quality_stats['coords_coverage']:.1f}%, Ortsteile {quality_stats['ortsteil_coverage']:.1f}%\")"
   ]
  },
  {
   "cell_type": "markdown",
   "id": "1c09965b",
   "metadata": {},
   "source": [
    "## 3. Explorative Datenanalyse (EDA)\n",
    "### 🔍 **Zeitliche Entwicklung der Mietpreise (2019 → 2022 → 2025)**\n",
    "\n",
    "Analysiere die Entwicklung der Mietpreise über die verfügbaren Zeiträume hinweg mit den standardisierten Pipeline-Daten."
   ]
  },
  {
   "cell_type": "code",
   "execution_count": 9,
   "id": "06772b9d",
   "metadata": {},
   "outputs": [
    {
     "name": "stdout",
     "output_type": "stream",
     "text": [
      "================================================================================\n",
      "ZEITLICHE ENTWICKLUNG DER MIETPREISE (2019 → 2022 → 2025)\n",
      "================================================================================\n",
      "📊 GRUNDLEGENDE ZEITREIHEN-STATISTIK\n",
      "\n",
      "Preis-Statistik nach Jahren:\n",
      "      count     mean   median      std     min     max\n",
      "year                                                  \n",
      "2019  10387  1151.40   945.00   778.25  178.16  9500.0\n",
      "2022   2676   966.67   790.60   588.49  180.00  3000.0\n",
      "2025   4424  1301.91  1001.62  1005.46  150.00  9990.0\n",
      "\n",
      "📈 PREISENTWICKLUNG\n",
      "Median-Preise nach Jahren:\n",
      "  2019: 945.00€\n",
      "  2022: 790.60€\n",
      "  2025: 1001.62€\n",
      "\n",
      "Veränderungsraten (Median):\n",
      "  2019 → 2022: -154.40€ (-16.3%)\n",
      "  2022 → 2025: +211.02€ (+26.7%)\n",
      "\n",
      "📏 GRÖSSEN-ENTWICKLUNG (PARALLEL)\n",
      "\n",
      "Größen-Statistik nach Jahren:\n",
      "      count  mean  median\n",
      "year                     \n",
      "2019  10387  81.4    72.0\n",
      "2022   2676  69.5    65.1\n",
      "2025   4424  73.2    65.0\n",
      "\n",
      "💰 PREIS PRO M²-ENTWICKLUNG\n",
      "Median Preis pro m² nach Jahren:\n",
      "  2019: 13.23€/m²\n",
      "  2022: 12.88€/m²\n",
      "  2025: 16.18€/m²\n",
      "\n",
      "Veränderungsraten Preis/m² (Median):\n",
      "  2019 → 2022: -0.35€/m² (-2.6%)\n",
      "  2022 → 2025: +3.30€/m² (+25.6%)\n",
      "\n",
      "✅ Zeitreihen-Analyse abgeschlossen\n",
      "🎯 Bereit für detaillierte Visualisierungen und Bezirksvergleiche\n"
     ]
    }
   ],
   "source": [
    "# Zeitliche Entwicklung der Mietpreise mit standardisierten Pipeline-Daten\n",
    "print(\"=\" * 80)\n",
    "print(\"ZEITLICHE ENTWICKLUNG DER MIETPREISE (2019 → 2022 → 2025)\")\n",
    "print(\"=\" * 80)\n",
    "\n",
    "# Grundlegende Zeitreihen-Statistik\n",
    "print(f\"📊 GRUNDLEGENDE ZEITREIHEN-STATISTIK\")\n",
    "yearly_stats = combined_df.groupby('year')['price'].agg([\n",
    "    'count', 'mean', 'median', 'std', 'min', 'max'\n",
    "]).round(2)\n",
    "\n",
    "print(f\"\\nPreis-Statistik nach Jahren:\")\n",
    "print(yearly_stats)\n",
    "\n",
    "# Berechne Preisentwicklung\n",
    "print(f\"\\n📈 PREISENTWICKLUNG\")\n",
    "yearly_median = combined_df.groupby('year')['price'].median()\n",
    "print(f\"Median-Preise nach Jahren:\")\n",
    "for year in sorted(yearly_median.index):\n",
    "    print(f\"  {year}: {yearly_median[year]:.2f}€\")\n",
    "\n",
    "# Berechne Veränderungsraten\n",
    "if len(yearly_median) > 1:\n",
    "    print(f\"\\nVeränderungsraten (Median):\")\n",
    "    years = sorted(yearly_median.index)\n",
    "    for i in range(1, len(years)):\n",
    "        current_year = years[i]\n",
    "        previous_year = years[i-1]\n",
    "        current_price = yearly_median[current_year]\n",
    "        previous_price = yearly_median[previous_year]\n",
    "        \n",
    "        change_abs = current_price - previous_price\n",
    "        change_pct = (change_abs / previous_price) * 100\n",
    "        \n",
    "        print(f\"  {previous_year} → {current_year}: {change_abs:+.2f}€ ({change_pct:+.1f}%)\")\n",
    "\n",
    "# Größenentwicklung parallel analysieren\n",
    "print(f\"\\n📏 GRÖSSEN-ENTWICKLUNG (PARALLEL)\")\n",
    "size_yearly_stats = combined_df.groupby('year')['size'].agg([\n",
    "    'count', 'mean', 'median'\n",
    "]).round(1)\n",
    "print(f\"\\nGrößen-Statistik nach Jahren:\")\n",
    "print(size_yearly_stats)\n",
    "\n",
    "# Preis pro m² Entwicklung\n",
    "print(f\"\\n💰 PREIS PRO M²-ENTWICKLUNG\")\n",
    "combined_df['price_per_sqm'] = combined_df['price'] / combined_df['size']\n",
    "price_per_sqm_yearly = combined_df.groupby('year')['price_per_sqm'].median().round(2)\n",
    "\n",
    "print(f\"Median Preis pro m² nach Jahren:\")\n",
    "for year in sorted(price_per_sqm_yearly.index):\n",
    "    print(f\"  {year}: {price_per_sqm_yearly[year]:.2f}€/m²\")\n",
    "\n",
    "# Berechne Preis/m² Veränderungsraten\n",
    "if len(price_per_sqm_yearly) > 1:\n",
    "    print(f\"\\nVeränderungsraten Preis/m² (Median):\")\n",
    "    years = sorted(price_per_sqm_yearly.index)\n",
    "    for i in range(1, len(years)):\n",
    "        current_year = years[i]\n",
    "        previous_year = years[i-1]\n",
    "        current_price_sqm = price_per_sqm_yearly[current_year]\n",
    "        previous_price_sqm = price_per_sqm_yearly[previous_year]\n",
    "        \n",
    "        change_abs_sqm = current_price_sqm - previous_price_sqm\n",
    "        change_pct_sqm = (change_abs_sqm / previous_price_sqm) * 100\n",
    "        \n",
    "        print(f\"  {previous_year} → {current_year}: {change_abs_sqm:+.2f}€/m² ({change_pct_sqm:+.1f}%)\")\n",
    "\n",
    "print(f\"\\n✅ Zeitreihen-Analyse abgeschlossen\")\n",
    "print(f\"🎯 Bereit für detaillierte Visualisierungen und Bezirksvergleiche\")"
   ]
  },
  {
   "cell_type": "markdown",
   "id": "2f40d21d",
   "metadata": {},
   "source": [
    "### 📊 **Visualisierung der Zeitreihen-Entwicklung**\n",
    "Erstelle umfassende Visualisierungen der Mietpreisentwicklung über die Jahre."
   ]
  },
  {
   "cell_type": "code",
   "execution_count": 10,
   "id": "ed7ef999",
   "metadata": {},
   "outputs": [
    {
     "name": "stdout",
     "output_type": "stream",
     "text": [
      "================================================================================\n",
      "VISUALISIERUNG DER ZEITREIHEN-ENTWICKLUNG\n",
      "================================================================================\n"
     ]
    },
    {
     "data": {
      "application/vnd.plotly.v1+json": {
       "config": {
        "plotlyServerURL": "https://plot.ly"
       },
       "data": [
        {
         "line": {
          "width": 3
         },
         "marker": {
          "size": 10
         },
         "mode": "lines+markers",
         "name": "Median Preis",
         "type": "scatter",
         "x": {
          "bdata": "4wfmB+kH",
          "dtype": "i2"
         },
         "xaxis": "x",
         "y": {
          "bdata": "AAAAAACIjUDNzMzMzLSIQClcj8L1TI9A",
          "dtype": "f8"
         },
         "yaxis": "y"
        },
        {
         "line": {
          "color": "orange",
          "width": 3
         },
         "marker": {
          "size": 10
         },
         "mode": "lines+markers",
         "name": "Median €/m²",
         "type": "scatter",
         "x": {
          "bdata": "4wfmB+kH",
          "dtype": "i2"
         },
         "xaxis": "x2",
         "y": {
          "bdata": "nU6n0+l0KkDyEt+xUsQpQBz4rhz4LjBA",
          "dtype": "f8"
         },
         "yaxis": "y2"
        },
        {
         "marker": {
          "color": "lightblue"
         },
         "name": "Anzahl Wohnungen",
         "type": "bar",
         "x": {
          "bdata": "4wfmB+kH",
          "dtype": "i2"
         },
         "xaxis": "x3",
         "y": {
          "bdata": "kyh0CkgR",
          "dtype": "i2"
         },
         "yaxis": "y3"
        },
        {
         "line": {
          "color": "green",
          "width": 3
         },
         "marker": {
          "size": 10
         },
         "mode": "lines+markers",
         "name": "Median Größe",
         "type": "scatter",
         "x": {
          "bdata": "4wfmB+kH",
          "dtype": "i2"
         },
         "xaxis": "x4",
         "y": {
          "bdata": "AAAAAAAAUkAehetRuEZQQAAAAAAAQFBA",
          "dtype": "f8"
         },
         "yaxis": "y4"
        },
        {
         "line": {
          "color": "red"
         },
         "mode": "lines+markers",
         "name": "Median",
         "type": "scatter",
         "x": {
          "bdata": "4wfmB+kH",
          "dtype": "i2"
         },
         "xaxis": "x5",
         "y": {
          "bdata": "AAAAAACIjUDNzMzMzLSIQClcj8L1TI9A",
          "dtype": "f8"
         },
         "yaxis": "y5"
        },
        {
         "line": {
          "color": "blue",
          "dash": "dash"
         },
         "mode": "lines+markers",
         "name": "Mittelwert",
         "type": "scatter",
         "x": {
          "bdata": "4wfmB+kH",
          "dtype": "i2"
         },
         "xaxis": "x5",
         "y": {
          "bdata": "mpmZmZn9kUCPwvUoXDWOQHE9CtejV5RA",
          "dtype": "f8"
         },
         "yaxis": "y5"
        },
        {
         "marker": {
          "opacity": 0.6,
          "size": 4
         },
         "mode": "markers",
         "name": "Daten 2019",
         "type": "scatter",
         "x": {
          "bdata": "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",
          "dtype": "f8"
         },
         "xaxis": "x6",
         "y": {
          "bdata": "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",
          "dtype": "f8"
         },
         "yaxis": "y6"
        },
        {
         "marker": {
          "opacity": 0.6,
          "size": 4
         },
         "mode": "markers",
         "name": "Daten 2022",
         "type": "scatter",
         "x": {
          "bdata": "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",
          "dtype": "f8"
         },
         "xaxis": "x6",
         "y": {
          "bdata": "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",
          "dtype": "f8"
         },
         "yaxis": "y6"
        },
        {
         "marker": {
          "opacity": 0.6,
          "size": 4
         },
         "mode": "markers",
         "name": "Daten 2025",
         "type": "scatter",
         "x": {
          "bdata": "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",
          "dtype": "f8"
         },
         "xaxis": "x6",
         "y": {
          "bdata": "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",
          "dtype": "f8"
         },
         "yaxis": "y6"
        }
       ],
       "layout": {
        "annotations": [
         {
          "font": {
           "size": 16
          },
          "showarrow": false,
          "text": "Median-Preisentwicklung",
          "x": 0.14444444444444446,
          "xanchor": "center",
          "xref": "paper",
          "y": 1,
          "yanchor": "bottom",
          "yref": "paper"
         },
         {
          "font": {
           "size": 16
          },
          "showarrow": false,
          "text": "Preis pro m² Entwicklung",
          "x": 0.5,
          "xanchor": "center",
          "xref": "paper",
          "y": 1,
          "yanchor": "bottom",
          "yref": "paper"
         },
         {
          "font": {
           "size": 16
          },
          "showarrow": false,
          "text": "Anzahl Wohnungen nach Jahren",
          "x": 0.8555555555555556,
          "xanchor": "center",
          "xref": "paper",
          "y": 1,
          "yanchor": "bottom",
          "yref": "paper"
         },
         {
          "font": {
           "size": 16
          },
          "showarrow": false,
          "text": "Größenverteilung",
          "x": 0.14444444444444446,
          "xanchor": "center",
          "xref": "paper",
          "y": 0.375,
          "yanchor": "bottom",
          "yref": "paper"
         },
         {
          "font": {
           "size": 16
          },
          "showarrow": false,
          "text": "Preis-Boxplots",
          "x": 0.5,
          "xanchor": "center",
          "xref": "paper",
          "y": 0.375,
          "yanchor": "bottom",
          "yref": "paper"
         },
         {
          "font": {
           "size": 16
          },
          "showarrow": false,
          "text": "Preis vs. Größe (Sample)",
          "x": 0.8555555555555556,
          "xanchor": "center",
          "xref": "paper",
          "y": 0.375,
          "yanchor": "bottom",
          "yref": "paper"
         }
        ],
        "height": 800,
        "showlegend": true,
        "template": {
         "data": {
          "bar": [
           {
            "error_x": {
             "color": "#2a3f5f"
            },
            "error_y": {
             "color": "#2a3f5f"
            },
            "marker": {
             "line": {
              "color": "#E5ECF6",
              "width": 0.5
             },
             "pattern": {
              "fillmode": "overlay",
              "size": 10,
              "solidity": 0.2
             }
            },
            "type": "bar"
           }
          ],
          "barpolar": [
           {
            "marker": {
             "line": {
              "color": "#E5ECF6",
              "width": 0.5
             },
             "pattern": {
              "fillmode": "overlay",
              "size": 10,
              "solidity": 0.2
             }
            },
            "type": "barpolar"
           }
          ],
          "carpet": [
           {
            "aaxis": {
             "endlinecolor": "#2a3f5f",
             "gridcolor": "white",
             "linecolor": "white",
             "minorgridcolor": "white",
             "startlinecolor": "#2a3f5f"
            },
            "baxis": {
             "endlinecolor": "#2a3f5f",
             "gridcolor": "white",
             "linecolor": "white",
             "minorgridcolor": "white",
             "startlinecolor": "#2a3f5f"
            },
            "type": "carpet"
           }
          ],
          "choropleth": [
           {
            "colorbar": {
             "outlinewidth": 0,
             "ticks": ""
            },
            "type": "choropleth"
           }
          ],
          "contour": [
           {
            "colorbar": {
             "outlinewidth": 0,
             "ticks": ""
            },
            "colorscale": [
             [
              0,
              "#0d0887"
             ],
             [
              0.1111111111111111,
              "#46039f"
             ],
             [
              0.2222222222222222,
              "#7201a8"
             ],
             [
              0.3333333333333333,
              "#9c179e"
             ],
             [
              0.4444444444444444,
              "#bd3786"
             ],
             [
              0.5555555555555556,
              "#d8576b"
             ],
             [
              0.6666666666666666,
              "#ed7953"
             ],
             [
              0.7777777777777778,
              "#fb9f3a"
             ],
             [
              0.8888888888888888,
              "#fdca26"
             ],
             [
              1,
              "#f0f921"
             ]
            ],
            "type": "contour"
           }
          ],
          "contourcarpet": [
           {
            "colorbar": {
             "outlinewidth": 0,
             "ticks": ""
            },
            "type": "contourcarpet"
           }
          ],
          "heatmap": [
           {
            "colorbar": {
             "outlinewidth": 0,
             "ticks": ""
            },
            "colorscale": [
             [
              0,
              "#0d0887"
             ],
             [
              0.1111111111111111,
              "#46039f"
             ],
             [
              0.2222222222222222,
              "#7201a8"
             ],
             [
              0.3333333333333333,
              "#9c179e"
             ],
             [
              0.4444444444444444,
              "#bd3786"
             ],
             [
              0.5555555555555556,
              "#d8576b"
             ],
             [
              0.6666666666666666,
              "#ed7953"
             ],
             [
              0.7777777777777778,
              "#fb9f3a"
             ],
             [
              0.8888888888888888,
              "#fdca26"
             ],
             [
              1,
              "#f0f921"
             ]
            ],
            "type": "heatmap"
           }
          ],
          "histogram": [
           {
            "marker": {
             "pattern": {
              "fillmode": "overlay",
              "size": 10,
              "solidity": 0.2
             }
            },
            "type": "histogram"
           }
          ],
          "histogram2d": [
           {
            "colorbar": {
             "outlinewidth": 0,
             "ticks": ""
            },
            "colorscale": [
             [
              0,
              "#0d0887"
             ],
             [
              0.1111111111111111,
              "#46039f"
             ],
             [
              0.2222222222222222,
              "#7201a8"
             ],
             [
              0.3333333333333333,
              "#9c179e"
             ],
             [
              0.4444444444444444,
              "#bd3786"
             ],
             [
              0.5555555555555556,
              "#d8576b"
             ],
             [
              0.6666666666666666,
              "#ed7953"
             ],
             [
              0.7777777777777778,
              "#fb9f3a"
             ],
             [
              0.8888888888888888,
              "#fdca26"
             ],
             [
              1,
              "#f0f921"
             ]
            ],
            "type": "histogram2d"
           }
          ],
          "histogram2dcontour": [
           {
            "colorbar": {
             "outlinewidth": 0,
             "ticks": ""
            },
            "colorscale": [
             [
              0,
              "#0d0887"
             ],
             [
              0.1111111111111111,
              "#46039f"
             ],
             [
              0.2222222222222222,
              "#7201a8"
             ],
             [
              0.3333333333333333,
              "#9c179e"
             ],
             [
              0.4444444444444444,
              "#bd3786"
             ],
             [
              0.5555555555555556,
              "#d8576b"
             ],
             [
              0.6666666666666666,
              "#ed7953"
             ],
             [
              0.7777777777777778,
              "#fb9f3a"
             ],
             [
              0.8888888888888888,
              "#fdca26"
             ],
             [
              1,
              "#f0f921"
             ]
            ],
            "type": "histogram2dcontour"
           }
          ],
          "mesh3d": [
           {
            "colorbar": {
             "outlinewidth": 0,
             "ticks": ""
            },
            "type": "mesh3d"
           }
          ],
          "parcoords": [
           {
            "line": {
             "colorbar": {
              "outlinewidth": 0,
              "ticks": ""
             }
            },
            "type": "parcoords"
           }
          ],
          "pie": [
           {
            "automargin": true,
            "type": "pie"
           }
          ],
          "scatter": [
           {
            "fillpattern": {
             "fillmode": "overlay",
             "size": 10,
             "solidity": 0.2
            },
            "type": "scatter"
           }
          ],
          "scatter3d": [
           {
            "line": {
             "colorbar": {
              "outlinewidth": 0,
              "ticks": ""
             }
            },
            "marker": {
             "colorbar": {
              "outlinewidth": 0,
              "ticks": ""
             }
            },
            "type": "scatter3d"
           }
          ],
          "scattercarpet": [
           {
            "marker": {
             "colorbar": {
              "outlinewidth": 0,
              "ticks": ""
             }
            },
            "type": "scattercarpet"
           }
          ],
          "scattergeo": [
           {
            "marker": {
             "colorbar": {
              "outlinewidth": 0,
              "ticks": ""
             }
            },
            "type": "scattergeo"
           }
          ],
          "scattergl": [
           {
            "marker": {
             "colorbar": {
              "outlinewidth": 0,
              "ticks": ""
             }
            },
            "type": "scattergl"
           }
          ],
          "scattermap": [
           {
            "marker": {
             "colorbar": {
              "outlinewidth": 0,
              "ticks": ""
             }
            },
            "type": "scattermap"
           }
          ],
          "scattermapbox": [
           {
            "marker": {
             "colorbar": {
              "outlinewidth": 0,
              "ticks": ""
             }
            },
            "type": "scattermapbox"
           }
          ],
          "scatterpolar": [
           {
            "marker": {
             "colorbar": {
              "outlinewidth": 0,
              "ticks": ""
             }
            },
            "type": "scatterpolar"
           }
          ],
          "scatterpolargl": [
           {
            "marker": {
             "colorbar": {
              "outlinewidth": 0,
              "ticks": ""
             }
            },
            "type": "scatterpolargl"
           }
          ],
          "scatterternary": [
           {
            "marker": {
             "colorbar": {
              "outlinewidth": 0,
              "ticks": ""
             }
            },
            "type": "scatterternary"
           }
          ],
          "surface": [
           {
            "colorbar": {
             "outlinewidth": 0,
             "ticks": ""
            },
            "colorscale": [
             [
              0,
              "#0d0887"
             ],
             [
              0.1111111111111111,
              "#46039f"
             ],
             [
              0.2222222222222222,
              "#7201a8"
             ],
             [
              0.3333333333333333,
              "#9c179e"
             ],
             [
              0.4444444444444444,
              "#bd3786"
             ],
             [
              0.5555555555555556,
              "#d8576b"
             ],
             [
              0.6666666666666666,
              "#ed7953"
             ],
             [
              0.7777777777777778,
              "#fb9f3a"
             ],
             [
              0.8888888888888888,
              "#fdca26"
             ],
             [
              1,
              "#f0f921"
             ]
            ],
            "type": "surface"
           }
          ],
          "table": [
           {
            "cells": {
             "fill": {
              "color": "#EBF0F8"
             },
             "line": {
              "color": "white"
             }
            },
            "header": {
             "fill": {
              "color": "#C8D4E3"
             },
             "line": {
              "color": "white"
             }
            },
            "type": "table"
           }
          ]
         },
         "layout": {
          "annotationdefaults": {
           "arrowcolor": "#2a3f5f",
           "arrowhead": 0,
           "arrowwidth": 1
          },
          "autotypenumbers": "strict",
          "coloraxis": {
           "colorbar": {
            "outlinewidth": 0,
            "ticks": ""
           }
          },
          "colorscale": {
           "diverging": [
            [
             0,
             "#8e0152"
            ],
            [
             0.1,
             "#c51b7d"
            ],
            [
             0.2,
             "#de77ae"
            ],
            [
             0.3,
             "#f1b6da"
            ],
            [
             0.4,
             "#fde0ef"
            ],
            [
             0.5,
             "#f7f7f7"
            ],
            [
             0.6,
             "#e6f5d0"
            ],
            [
             0.7,
             "#b8e186"
            ],
            [
             0.8,
             "#7fbc41"
            ],
            [
             0.9,
             "#4d9221"
            ],
            [
             1,
             "#276419"
            ]
           ],
           "sequential": [
            [
             0,
             "#0d0887"
            ],
            [
             0.1111111111111111,
             "#46039f"
            ],
            [
             0.2222222222222222,
             "#7201a8"
            ],
            [
             0.3333333333333333,
             "#9c179e"
            ],
            [
             0.4444444444444444,
             "#bd3786"
            ],
            [
             0.5555555555555556,
             "#d8576b"
            ],
            [
             0.6666666666666666,
             "#ed7953"
            ],
            [
             0.7777777777777778,
             "#fb9f3a"
            ],
            [
             0.8888888888888888,
             "#fdca26"
            ],
            [
             1,
             "#f0f921"
            ]
           ],
           "sequentialminus": [
            [
             0,
             "#0d0887"
            ],
            [
             0.1111111111111111,
             "#46039f"
            ],
            [
             0.2222222222222222,
             "#7201a8"
            ],
            [
             0.3333333333333333,
             "#9c179e"
            ],
            [
             0.4444444444444444,
             "#bd3786"
            ],
            [
             0.5555555555555556,
             "#d8576b"
            ],
            [
             0.6666666666666666,
             "#ed7953"
            ],
            [
             0.7777777777777778,
             "#fb9f3a"
            ],
            [
             0.8888888888888888,
             "#fdca26"
            ],
            [
             1,
             "#f0f921"
            ]
           ]
          },
          "colorway": [
           "#636efa",
           "#EF553B",
           "#00cc96",
           "#ab63fa",
           "#FFA15A",
           "#19d3f3",
           "#FF6692",
           "#B6E880",
           "#FF97FF",
           "#FECB52"
          ],
          "font": {
           "color": "#2a3f5f"
          },
          "geo": {
           "bgcolor": "white",
           "lakecolor": "white",
           "landcolor": "#E5ECF6",
           "showlakes": true,
           "showland": true,
           "subunitcolor": "white"
          },
          "hoverlabel": {
           "align": "left"
          },
          "hovermode": "closest",
          "mapbox": {
           "style": "light"
          },
          "paper_bgcolor": "white",
          "plot_bgcolor": "#E5ECF6",
          "polar": {
           "angularaxis": {
            "gridcolor": "white",
            "linecolor": "white",
            "ticks": ""
           },
           "bgcolor": "#E5ECF6",
           "radialaxis": {
            "gridcolor": "white",
            "linecolor": "white",
            "ticks": ""
           }
          },
          "scene": {
           "xaxis": {
            "backgroundcolor": "#E5ECF6",
            "gridcolor": "white",
            "gridwidth": 2,
            "linecolor": "white",
            "showbackground": true,
            "ticks": "",
            "zerolinecolor": "white"
           },
           "yaxis": {
            "backgroundcolor": "#E5ECF6",
            "gridcolor": "white",
            "gridwidth": 2,
            "linecolor": "white",
            "showbackground": true,
            "ticks": "",
            "zerolinecolor": "white"
           },
           "zaxis": {
            "backgroundcolor": "#E5ECF6",
            "gridcolor": "white",
            "gridwidth": 2,
            "linecolor": "white",
            "showbackground": true,
            "ticks": "",
            "zerolinecolor": "white"
           }
          },
          "shapedefaults": {
           "line": {
            "color": "#2a3f5f"
           }
          },
          "ternary": {
           "aaxis": {
            "gridcolor": "white",
            "linecolor": "white",
            "ticks": ""
           },
           "baxis": {
            "gridcolor": "white",
            "linecolor": "white",
            "ticks": ""
           },
           "bgcolor": "#E5ECF6",
           "caxis": {
            "gridcolor": "white",
            "linecolor": "white",
            "ticks": ""
           }
          },
          "title": {
           "x": 0.05
          },
          "xaxis": {
           "automargin": true,
           "gridcolor": "white",
           "linecolor": "white",
           "ticks": "",
           "title": {
            "standoff": 15
           },
           "zerolinecolor": "white",
           "zerolinewidth": 2
          },
          "yaxis": {
           "automargin": true,
           "gridcolor": "white",
           "linecolor": "white",
           "ticks": "",
           "title": {
            "standoff": 15
           },
           "zerolinecolor": "white",
           "zerolinewidth": 2
          }
         }
        },
        "title": {
         "text": "Berliner Wohnungsmarkt - Umfassende Zeitreihen-Analyse (2019-2025)",
         "x": 0.5
        },
        "xaxis": {
         "anchor": "y",
         "domain": [
          0,
          0.2888888888888889
         ]
        },
        "xaxis2": {
         "anchor": "y2",
         "domain": [
          0.35555555555555557,
          0.6444444444444445
         ]
        },
        "xaxis3": {
         "anchor": "y3",
         "domain": [
          0.7111111111111111,
          1
         ]
        },
        "xaxis4": {
         "anchor": "y4",
         "domain": [
          0,
          0.2888888888888889
         ]
        },
        "xaxis5": {
         "anchor": "y5",
         "domain": [
          0.35555555555555557,
          0.6444444444444445
         ]
        },
        "xaxis6": {
         "anchor": "y6",
         "domain": [
          0.7111111111111111,
          1
         ]
        },
        "yaxis": {
         "anchor": "x",
         "domain": [
          0.625,
          1
         ]
        },
        "yaxis2": {
         "anchor": "x2",
         "domain": [
          0.625,
          1
         ]
        },
        "yaxis3": {
         "anchor": "x3",
         "domain": [
          0.625,
          1
         ]
        },
        "yaxis4": {
         "anchor": "x4",
         "domain": [
          0,
          0.375
         ]
        },
        "yaxis5": {
         "anchor": "x5",
         "domain": [
          0,
          0.375
         ]
        },
        "yaxis6": {
         "anchor": "x6",
         "domain": [
          0,
          0.375
         ]
        }
       }
      }
     },
     "metadata": {},
     "output_type": "display_data"
    },
    {
     "name": "stdout",
     "output_type": "stream",
     "text": [
      "\n",
      "📊 STATISTISCHE ZUSAMMENFASSUNG\n",
      "Zeitraum: 2019 - 2025\n",
      "Gesamtdatenpunkte: 17,487\n",
      "\n",
      "💰 PREISENTWICKLUNG:\n",
      "  2019: 945.00€ (Median)\n",
      "  2022: 790.60€ (Median)\n",
      "  2025: 1001.62€ (Median)\n",
      "\n",
      "📈 VERÄNDERUNGSRATEN (Median):\n",
      "  2019 → 2022: -16.3%\n",
      "  2022 → 2025: +26.7%\n",
      "\n",
      "✅ Umfassende Zeitreihen-Visualisierung erstellt\n",
      "📊 Dashboard zeigt 6 verschiedene Perspektiven der Marktentwicklung\n"
     ]
    }
   ],
   "source": [
    "# Umfassende Visualisierungen der Zeitreihen-Entwicklung\n",
    "print(\"=\" * 80)\n",
    "print(\"VISUALISIERUNG DER ZEITREIHEN-ENTWICKLUNG\")\n",
    "print(\"=\" * 80)\n",
    "\n",
    "# Erstelle ein großes Dashboard mit mehreren Subplots\n",
    "fig = make_subplots(\n",
    "    rows=2, cols=3,\n",
    "    subplot_titles=[\n",
    "        'Median-Preisentwicklung',\n",
    "        'Preis pro m² Entwicklung',\n",
    "        'Anzahl Wohnungen nach Jahren', \n",
    "        'Größenverteilung',\n",
    "        'Preis-Boxplots',\n",
    "        'Preis vs. Größe (Sample)'\n",
    "    ]\n",
    ")\n",
    "\n",
    "# 1. Median-Preisentwicklung\n",
    "yearly_median = combined_df.groupby('year')['price'].median()\n",
    "fig.add_trace(\n",
    "    go.Scatter(x=yearly_median.index, y=yearly_median.values,\n",
    "               mode='lines+markers',\n",
    "               name='Median Preis',\n",
    "               line=dict(width=3),\n",
    "               marker=dict(size=10)),\n",
    "    row=1, col=1\n",
    ")\n",
    "\n",
    "# 2. Preis pro m² Entwicklung\n",
    "yearly_price_sqm = combined_df.groupby('year')['price_per_sqm'].median()\n",
    "fig.add_trace(\n",
    "    go.Scatter(x=yearly_price_sqm.index, y=yearly_price_sqm.values,\n",
    "               mode='lines+markers',\n",
    "               name='Median €/m²',\n",
    "               line=dict(width=3, color='orange'),\n",
    "               marker=dict(size=10)),\n",
    "    row=1, col=2\n",
    ")\n",
    "\n",
    "# 3. Anzahl Wohnungen nach Jahren\n",
    "year_counts = combined_df['year'].value_counts().sort_index()\n",
    "fig.add_trace(\n",
    "    go.Bar(x=year_counts.index, y=year_counts.values,\n",
    "           name='Anzahl Wohnungen',\n",
    "           marker_color='lightblue'),\n",
    "    row=1, col=3\n",
    ")\n",
    "\n",
    "# 4. Größenverteilung\n",
    "yearly_size = combined_df.groupby('year')['size'].median()\n",
    "fig.add_trace(\n",
    "    go.Scatter(x=yearly_size.index, y=yearly_size.values,\n",
    "               mode='lines+markers',\n",
    "               name='Median Größe',\n",
    "               line=dict(width=3, color='green'),\n",
    "               marker=dict(size=10)),\n",
    "    row=2, col=1\n",
    ")\n",
    "\n",
    "# 5. Erstelle separate Boxplot-Visualisierung (einfacher)\n",
    "yearly_stats = combined_df.groupby('year')['price'].agg(['min', 'max', 'median', 'mean']).round(2)\n",
    "fig.add_trace(\n",
    "    go.Scatter(x=yearly_stats.index, y=yearly_stats['median'],\n",
    "               mode='lines+markers',\n",
    "               name='Median',\n",
    "               line=dict(color='red')),\n",
    "    row=2, col=2\n",
    ")\n",
    "\n",
    "fig.add_trace(\n",
    "    go.Scatter(x=yearly_stats.index, y=yearly_stats['mean'],\n",
    "               mode='lines+markers',\n",
    "               name='Mittelwert',\n",
    "               line=dict(color='blue', dash='dash')),\n",
    "    row=2, col=2\n",
    ")\n",
    "\n",
    "# 6. Preis vs. Größe Scatter (Sample für bessere Performance)\n",
    "sample_data = combined_df.sample(n=min(2000, len(combined_df)), random_state=42)\n",
    "for i, year in enumerate(sorted(sample_data['year'].unique())):\n",
    "    year_data = sample_data[sample_data['year'] == year]\n",
    "    fig.add_trace(\n",
    "        go.Scatter(x=year_data['size'], y=year_data['price'],\n",
    "                   mode='markers',\n",
    "                   name=f'Daten {year}',\n",
    "                   marker=dict(size=4, opacity=0.6)),\n",
    "        row=2, col=3\n",
    "    )\n",
    "\n",
    "# Layout anpassen\n",
    "fig.update_layout(\n",
    "    height=800,\n",
    "    title_text=\"Berliner Wohnungsmarkt - Umfassende Zeitreihen-Analyse (2019-2025)\",\n",
    "    title_x=0.5,\n",
    "    showlegend=True\n",
    ")\n",
    "\n",
    "fig.show()\n",
    "\n",
    "# Zusätzliche statistische Zusammenfassung\n",
    "print(f\"\\n📊 STATISTISCHE ZUSAMMENFASSUNG\")\n",
    "print(f\"Zeitraum: {combined_df['year'].min()} - {combined_df['year'].max()}\")\n",
    "print(f\"Gesamtdatenpunkte: {len(combined_df):,}\")\n",
    "\n",
    "# Preisentwicklung\n",
    "print(f\"\\n💰 PREISENTWICKLUNG:\")\n",
    "for year in sorted(yearly_median.index):\n",
    "    print(f\"  {year}: {yearly_median[year]:.2f}€ (Median)\")\n",
    "\n",
    "# Veränderungsraten\n",
    "years = sorted(yearly_median.index)\n",
    "if len(years) > 1:\n",
    "    print(f\"\\n📈 VERÄNDERUNGSRATEN (Median):\")\n",
    "    for i in range(1, len(years)):\n",
    "        current = yearly_median[years[i]]\n",
    "        previous = yearly_median[years[i-1]]\n",
    "        change_pct = ((current - previous) / previous) * 100\n",
    "        print(f\"  {years[i-1]} → {years[i]}: {change_pct:+.1f}%\")\n",
    "\n",
    "print(f\"\\n✅ Umfassende Zeitreihen-Visualisierung erstellt\")\n",
    "print(f\"📊 Dashboard zeigt 6 verschiedene Perspektiven der Marktentwicklung\")"
   ]
  },
  {
   "cell_type": "markdown",
   "id": "10604c57",
   "metadata": {},
   "source": [
    "### 🏘️ **Bezirksanalyse und regionale Unterschiede**\n",
    "Analysiere die Unterschiede zwischen den Berliner Bezirken über die Jahre hinweg."
   ]
  },
  {
   "cell_type": "markdown",
   "id": "c50f0178",
   "metadata": {},
   "source": [
    "### 3.2 Bezirksvergleiche und geografische Analyse\n",
    "Analysiere die Mietpreise nach Berliner Bezirken und identifiziere Trends."
   ]
  },
  {
   "cell_type": "code",
   "execution_count": 14,
   "id": "7eaf3866",
   "metadata": {},
   "outputs": [
    {
     "name": "stdout",
     "output_type": "stream",
     "text": [
      "============================================================\n",
      "BEZIRKSVERGLEICHE UND GEOGRAFISCHE ANALYSE\n",
      "============================================================\n",
      "\n",
      "Mietpreisstatistik nach Bezirken:\n",
      "                            count     mean   median      std      min      max\n",
      "district                                                                      \n",
      "Grunewald                      91  2360.00  2100.00  1294.98   500.00  8475.00\n",
      "Gatow                           3  1825.09  2500.00  1168.98   475.27  2500.00\n",
      "Dahlem                         58  1808.88  1452.50  1307.65   430.00  6000.00\n",
      "Rummelsburg                     5  1776.02  1614.90   350.23  1581.30  2400.00\n",
      "Charlottenburg-Wilmersdorf    636  1747.37  1304.88  1390.44   208.00  9500.00\n",
      "...                           ...      ...      ...      ...      ...      ...\n",
      "Staaken                       110   611.54   599.50   222.24   187.59  1200.00\n",
      "Heinersdorf                    25   611.21   575.00   147.33   420.00   938.00\n",
      "Haselhorst                     16   608.99   596.59   203.28   340.42  1093.57\n",
      "Hellersdorf                   272   546.52   529.00   131.65   178.16   949.00\n",
      "Marzahn                       146   500.65   491.11   167.17   261.38  1291.60\n",
      "\n",
      "[87 rows x 6 columns]\n",
      "\n",
      "Top 10 teuerste Bezirke (Durchschnitt):\n",
      "  Grunewald: 2360.00 € (Median: 2100.00 €, n=91.0)\n",
      "  Gatow: 1825.09 € (Median: 2500.00 €, n=3.0)\n",
      "  Dahlem: 1808.88 € (Median: 1452.50 €, n=58.0)\n",
      "  Rummelsburg: 1776.02 € (Median: 1614.90 €, n=5.0)\n",
      "  Charlottenburg-Wilmersdorf: 1747.37 € (Median: 1304.88 €, n=636.0)\n",
      "  Nikolassee: 1731.65 € (Median: 1649.00 €, n=29.0)\n",
      "  Mitte: 1644.14 € (Median: 1448.23 €, n=1923.0)\n",
      "  Wilmersdorf: 1639.08 € (Median: 1410.00 €, n=432.0)\n",
      "  Charlottenburg: 1555.04 € (Median: 1334.10 €, n=792.0)\n",
      "  Prenzlauer: 1552.83 € (Median: 1346.70 €, n=473.0)\n",
      "\n",
      "Top 10 günstigste Bezirke (Durchschnitt):\n",
      "  Oberschöneweide: 663.56 € (Median: 600.00 €, n=137.0)\n",
      "  Alt: 642.99 € (Median: 623.00 €, n=111.0)\n",
      "  Buckow: 638.96 € (Median: 634.89 €, n=57.0)\n",
      "  Waidmannslust: 627.49 € (Median: 547.00 €, n=58.0)\n",
      "  Neu: 612.84 € (Median: 634.00 €, n=80.0)\n",
      "  Staaken: 611.54 € (Median: 599.50 €, n=110.0)\n",
      "  Heinersdorf: 611.21 € (Median: 575.00 €, n=25.0)\n",
      "  Haselhorst: 608.99 € (Median: 596.59 €, n=16.0)\n",
      "  Hellersdorf: 546.52 € (Median: 529.00 €, n=272.0)\n",
      "  Marzahn: 500.65 € (Median: 491.11 €, n=146.0)\n",
      "\n",
      "📐 PREIS PRO QUADRATMETER NACH BEZIRKEN:\n",
      "                            count   mean  median   std\n",
      "district                                              \n",
      "Falkensee                       1  21.33   21.33   NaN\n",
      "Mitte                        1923  20.49   18.86  9.49\n",
      "Charlottenburg-Wilmersdorf    636  19.92   19.90  8.53\n",
      "Tiergarten                    832  19.44   17.83  9.48\n",
      "Grunewald                      91  17.52   17.00  4.78\n",
      "Prenzlauer                    473  17.50   16.72  4.98\n",
      "Friedrichshain-Kreuzberg      775  17.39   14.84  8.85\n",
      "Friedrichshain                666  17.31   16.25  4.76\n",
      "Kreuzberg                     364  16.95   16.30  5.65\n",
      "Wilmersdorf                   432  16.88   16.09  5.03\n",
      "\n",
      "📈 ZEITLICHE ENTWICKLUNG PRO BEZIRK:\n",
      "Bezirke mit Daten aus mindestens 2 Jahren: 20\n",
      "\n",
      "Mitte:\n",
      "  2019: 1799.06€\n",
      "  2022: 1573.78€\n",
      "  2025: 1530.17€\n",
      "  Änderung: -268.89€ (-14.9%)\n",
      "\n",
      "Pankow:\n",
      "  2019: 1022.13€\n",
      "  2022: 977.74€\n",
      "  2025: 1203.95€\n",
      "  Änderung: +181.82€ (+17.8%)\n",
      "\n",
      "Neukölln:\n",
      "  2019: 1035.21€\n",
      "  2022: 864.69€\n",
      "  2025: 870.29€\n",
      "  Änderung: -164.92€ (-15.9%)\n",
      "\n",
      "Spandau:\n",
      "  2019: 709.34€\n",
      "  2022: 728.51€\n",
      "  2025: 919.03€\n",
      "  Änderung: +209.69€ (+29.6%)\n",
      "\n",
      "Tiergarten:\n",
      "  2019: 1452.20€\n",
      "  2022: 1474.72€\n",
      "  2025: 1037.50€\n",
      "  Änderung: -414.70€ (-28.6%)\n",
      "\n",
      "✅ Bezirksanalyse abgeschlossen!\n"
     ]
    }
   ],
   "source": [
    "# Bezirksvergleiche und geografische Analyse\n",
    "print(\"=\" * 60)\n",
    "print(\"BEZIRKSVERGLEICHE UND GEOGRAFISCHE ANALYSE\")\n",
    "print(\"=\" * 60)\n",
    "\n",
    "# Statistik pro Bezirk\n",
    "print(\"\\nMietpreisstatistik nach Bezirken:\")\n",
    "district_stats = combined_df.groupby('district')['price'].agg(['count', 'mean', 'median', 'std', 'min', 'max']).round(2)\n",
    "district_stats = district_stats.sort_values('mean', ascending=False)\n",
    "print(district_stats)\n",
    "\n",
    "# Top 10 teuerste und günstigste Bezirke\n",
    "print(\"\\nTop 10 teuerste Bezirke (Durchschnitt):\")\n",
    "top_expensive = district_stats.head(10)\n",
    "for district, stats in top_expensive.iterrows():\n",
    "    print(f\"  {district}: {stats['mean']:.2f} € (Median: {stats['median']:.2f} €, n={stats['count']})\")\n",
    "\n",
    "print(\"\\nTop 10 günstigste Bezirke (Durchschnitt):\")\n",
    "top_cheap = district_stats.tail(10)\n",
    "for district, stats in top_cheap.iterrows():\n",
    "    print(f\"  {district}: {stats['mean']:.2f} € (Median: {stats['median']:.2f} €, n={stats['count']})\")\n",
    "\n",
    "# Preis pro m² nach Bezirken\n",
    "print(\"\\n📐 PREIS PRO QUADRATMETER NACH BEZIRKEN:\")\n",
    "combined_df['price_per_sqm'] = combined_df['price'] / combined_df['size']\n",
    "district_price_sqm = combined_df.groupby('district')['price_per_sqm'].agg(['count', 'mean', 'median', 'std']).round(2)\n",
    "district_price_sqm = district_price_sqm.sort_values('mean', ascending=False)\n",
    "print(district_price_sqm.head(10))\n",
    "\n",
    "# Zeitliche Entwicklung pro Bezirk (nur Bezirke mit Daten aus allen Jahren)\n",
    "print(\"\\n📈 ZEITLICHE ENTWICKLUNG PRO BEZIRK:\")\n",
    "# Bezirke mit Daten aus allen verfügbaren Jahren finden\n",
    "districts_all_years = combined_df.groupby('district')['year'].nunique()\n",
    "districts_complete = districts_all_years[districts_all_years >= 2].index  # Mindestens 2 Jahre\n",
    "\n",
    "if len(districts_complete) > 0:\n",
    "    print(f\"Bezirke mit Daten aus mindestens 2 Jahren: {len(districts_complete)}\")\n",
    "    \n",
    "    # Für Top 5 Bezirke mit den meisten Daten\n",
    "    district_counts = combined_df['district'].value_counts()\n",
    "    top_districts = district_counts.head(5).index\n",
    "    \n",
    "    for district in top_districts:\n",
    "        district_data = combined_df[combined_df['district'] == district]\n",
    "        yearly_avg = district_data.groupby('year')['price'].mean()\n",
    "        print(f\"\\n{district}:\")\n",
    "        for year, avg_price in yearly_avg.items():\n",
    "            print(f\"  {year}: {avg_price:.2f}€\")\n",
    "        \n",
    "        # Berechne Änderung falls möglich\n",
    "        if len(yearly_avg) > 1:\n",
    "            years_sorted = sorted(yearly_avg.index)\n",
    "            change_abs = yearly_avg[years_sorted[-1]] - yearly_avg[years_sorted[0]]\n",
    "            change_pct = (change_abs / yearly_avg[years_sorted[0]]) * 100\n",
    "            print(f\"  Änderung: {change_abs:+.2f}€ ({change_pct:+.1f}%)\")\n",
    "else:\n",
    "    print(\"Keine Bezirke mit Daten aus mehreren Jahren gefunden.\")\n",
    "\n",
    "print(\"\\n✅ Bezirksanalyse abgeschlossen!\")"
   ]
  }
 ],
 "metadata": {
  "kernelspec": {
   "display_name": "Python 3",
   "language": "python",
   "name": "python3"
  },
  "language_info": {
   "codemirror_mode": {
    "name": "ipython",
    "version": 3
   },
   "file_extension": ".py",
   "mimetype": "text/x-python",
   "name": "python",
   "nbconvert_exporter": "python",
   "pygments_lexer": "ipython3",
   "version": "3.11.9"
  }
 },
 "nbformat": 4,
 "nbformat_minor": 5
}
