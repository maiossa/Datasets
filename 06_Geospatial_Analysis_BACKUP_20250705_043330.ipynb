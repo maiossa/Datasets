{
 "cells": [
  {
   "cell_type": "markdown",
   "id": "a28af645",
   "metadata": {},
   "source": [
    "# 06_Geospatial_Analysis - Heatmap der Wohnungsangebote\n",
    "\n",
    "## 🎯 **Ziel:**\n",
    "Erstellung einer interaktiven Heatmap (Choropleth) von Berlin, die die Verteilung der Wohnungsangebote pro Ortsteil visualisiert.\n",
    "\n",
    "### **Hauptfunktionen:**\n",
    "- **Laden der Geodaten** für Berliner Ortsteile.\n",
    "- **Laden des angereicherten Datasets** mit Wohnungsangeboten.\n",
    "- **Aggregation der Angebote** pro Ortsteil.\n",
    "- **Verknüpfung** der Angebotsdaten mit den Geodaten.\n",
    "- **Erstellung einer interaktiven Folium-Karte** mit Tooltips für Detailinformationen.\n",
    "\n",
    "### **Input:**\n",
    "- `data/processed/berlin_housing_combined_enriched_final.csv`\n",
    "- `data/raw/lor_ortsteile.geojson`\n",
    "\n",
    "### **Output:**\n",
    "- Interaktive HTML-Karte (`heatmap_offers_by_district.html`)\n",
    "\n",
    "---\n",
    "**Teil der modularen Analyse-Pipeline**  \n",
    "**Datum:** 4. Juli 2025  \n",
    "**Version:** 1.0"
   ]
  },
  {
   "cell_type": "markdown",
   "id": "d2b3a267",
   "metadata": {},
   "source": [
    "## 1. Setup und Imports"
   ]
  },
  {
   "cell_type": "code",
   "execution_count": null,
   "id": "9a456e01",
   "metadata": {},
   "outputs": [],
   "source": [
    "import pandas as pd\n",
    "import geopandas as gpd\n",
    "import folium\n",
    "import warnings\n",
    "warnings.filterwarnings('ignore')\n",
    "\n",
    "print(\"Bibliotheken erfolgreich importiert!\")\n",
    "print(f\"Pandas Version: {pd.__version__}\")\n",
    "print(f\"GeoPandas Version: {gpd.__version__}\")\n",
    "print(f\"Folium Version: {folium.__version__}\")"
   ]
  },
  {
   "cell_type": "markdown",
   "id": "7a068c89",
   "metadata": {},
   "source": [
    "## 2. Lade Geodaten und angereicherte Angebotsdaten"
   ]
  },
  {
   "cell_type": "code",
   "execution_count": null,
   "id": "9037091b",
   "metadata": {},
   "outputs": [],
   "source": [
    "print(\"=\"*60)\n",
    "print(\"LADE GEODATEN UND ANGEBOTSDATEN\")\n",
    "print(\"=\"*60)\n",
    "\n",
    "# Lade GeoJSON-Datei mit den Ortsteil-Grenzen\n",
    "geojson_path = 'data/raw/lor_ortsteile.geojson'\n",
    "try:\n",
    "    gdf_districts = gpd.read_file(geojson_path)\n",
    "    print(f\"✅ GeoJSON geladen: {len(gdf_districts)} Ortsteile\")\n",
    "except Exception as e:\n",
    "    print(f\"❌ Fehler beim Laden der GeoJSON-Datei: {e}\")\n",
    "\n",
    "# Lade das angereicherte Dataset\n",
    "data_path = 'data/processed/berlin_housing_combined_enriched_final.csv'\n",
    "try:\n",
    "    df_offers = pd.read_csv(data_path)\n",
    "    print(f\"✅ Angereicherte Angebotsdaten geladen: {len(df_offers):,} Zeilen\")\n",
    "except Exception as e:\n",
    "    print(f\"❌ Fehler beim Laden der Angebotsdaten: {e}\")"
   ]
  },
  {
   "cell_type": "markdown",
   "id": "31e94ac8",
   "metadata": {},
   "source": [
    "## 3. Aggregiere Angebotsdaten pro Ortsteil"
   ]
  },
  {
   "cell_type": "code",
   "execution_count": null,
   "id": "fed89cb8",
   "metadata": {},
   "outputs": [],
   "source": [
    "print(\"=\"*60)\n",
    "print(\"AGGREGIERE ANGEBOTSDATEN PRO ORTSTEIL\")\n",
    "print(\"=\"*60)\n",
    "\n",
    "# Berechne die Anzahl der Angebote pro Ortsteil\n",
    "offers_by_district = df_offers['ortsteil_neu'].value_counts().reset_index()\n",
    "offers_by_district.columns = ['ortsteil_neu', 'offer_count']\n",
    "\n",
    "print(f\"✅ Daten aggregiert: {len(offers_by_district)} Ortsteile mit Angeboten\")\n",
    "print(\"\nTop 10 Ortsteile nach Angeboten:\")\n",
    "print(offers_by_district.head(10))"
   ]
  },
  {
   "cell_type": "markdown",
   "id": "7d5851ed",
   "metadata": {},
   "source": [
    "## 4. Verknüpfe Geodaten mit Angebotsdaten"
   ]
  },
  {
   "cell_type": "code",
   "execution_count": null,
   "id": "11ffb667",
   "metadata": {},
   "outputs": [],
   "source": [
    "print(\"=\"*60)\n",
    "print(\"VERKNÜPFE GEODATEN MIT ANGEBOTSDATEN\")\n",
    "print(\"=\"*60)\n",
    "\n",
    "# Merge die Geodaten mit den aggregierten Angebotsdaten\n",
    "gdf_merged = gdf_districts.merge(offers_by_district, left_on='OTEIL', right_on='ortsteil_neu', how='left')\n",
    "\n",
    "# Fülle NaN-Werte in 'offer_count' mit 0 (für Ortsteile ohne Angebote)\n",
    "gdf_merged['offer_count'] = gdf_merged['offer_count'].fillna(0).astype(int)\n",
    "\n",
    "print(f\"✅ Merge abgeschlossen. Spalten im GeoDataFrame: {list(gdf_merged.columns)}\")\n",
    "print(f\"Anzahl der Ortsteile im GeoDataFrame: {len(gdf_merged)}\")"
   ]
  },
  {
   "cell_type": "markdown",
   "id": "e64402b9",
   "metadata": {},
   "source": [
    "## 5. Erstelle die interaktive Heatmap"
   ]
  },
  {
   "cell_type": "code",
   "execution_count": null,
   "id": "8c4d1cb1",
   "metadata": {},
   "outputs": [],
   "source": [
    "print(\"=\"*60)\n",
    "print(\"ERSTELLE INTERAKTIVE HEATMAP\")\n",
    "print(\"=\"*60)\n",
    "\n",
    "# Erstelle eine Folium-Karte, zentriert auf Berlin\n",
    "m = folium.Map(location=[52.52, 13.405], zoom_start=10)\n",
    "\n",
    "# Erstelle eine Choropleth-Karte\n",
    "folium.Choropleth(\n",
    "    geo_data=gdf_merged,\n",
    "    name='choropleth',\n",
    "    data=gdf_merged,\n",
    "    columns=['OTEIL', 'offer_count'],\n",
    "    key_on='feature.properties.OTEIL',\n",
    "    fill_color='YlOrRd',\n",
    "    fill_opacity=0.7,\n",
    "    line_opacity=0.2,\n",
    "    legend_name='Anzahl der Wohnungsangebote'\n",
    ").add_to(m)\n",
    "\n",
    "# Füge Tooltips hinzu\n",
    "folium.features.GeoJsonTooltip(\n",
    "    fields=['OTEIL', 'offer_count'],\n",
    "    aliases=['Ortsteil:', 'Angebote:'],\n",
    "    style=(\"background-color: white; color: #333333; font-family: arial; font-size: 12px; padding: 10px;\")\n",
    ").add_to(folium.features.GeoJson(gdf_merged))\n",
    "\n",
    "# Speichere die Karte als HTML-Datei\n",
    "output_map_path = 'heatmap_offers_by_district.html'\n",
    "m.save(output_map_path)\n",
    "\n",
    "print(f\"✅ Interaktive Karte gespeichert unter: {output_map_path}\")"
   ]
  }
 ],
 "metadata": {
  "kernelspec": {
   "display_name": "Python 3",
   "language": "python",
   "name": "python3"
  },
  "language_info": {
   "codemirror_mode": {
    "name": "ipython",
    "version": 3
   },
   "file_extension": ".py",
   "mimetype": "text/x-python",
   "name": "python",
   "nbconvert_exporter": "python",
   "pygments_lexer": "ipython3",
   "version": "3.11.9"
  }
 },
 "nbformat": 4,
 "nbformat_minor": 5
}