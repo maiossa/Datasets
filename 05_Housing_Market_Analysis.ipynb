{
 "cells": [
  {
   "cell_type": "markdown",
   "id": "9b507988",
   "metadata": {},
   "source": [
    "# 05_Housing_Market_Analysis - Hauptanalyse\n",
    "## Berliner Wohnungsmarkt - Umfassende Datenanalyse\n",
    "\n",
    "### 🎯 **Projektübersicht**\n",
    "Dieses Notebook führt die **Hauptanalyse** des Berliner Wohnungsmarktes durch und baut auf der **modularen Preprocessing-Pipeline** auf:\n",
    "\n",
    "1. **01_Clean_Dataset_2018_2019.ipynb** ✅ \n",
    "2. **02_Clean_Dataset_2022.ipynb** ✅\n",
    "3. **03_Clean_Dataset_2025.ipynb** ✅  \n",
    "4. **04_Combine_Datasets.ipynb** ✅\n",
    "5. **05_Housing_Market_Analysis.ipynb** ← **Dieses Notebook**\n",
    "\n",
    "### 📊 **Input-Daten**\n",
    "- **Kombiniertes Dataset:** `data/processed/berlin_housing_combined_final.csv`\n",
    "- **Zeitspanne:** 2019, 2022, 2025 (7 Jahre Entwicklung)\n",
    "- **Datenpunkte:** 17.826 Einträge\n",
    "- **Bezirke:** 87 Berliner Bezirke/Ortsteile\n",
    "\n",
    "### 🔍 **Analyseziele**\n",
    "1. **Zeitreihenanalyse** der Mietpreisentwicklung (2019 → 2022 → 2025)\n",
    "2. **Bezirksvergleiche** mit statistischen Tests\n",
    "3. **Explorative Datenanalyse** mit umfassenden Visualisierungen\n",
    "4. **Preisvorhersagemodelle** mit Machine Learning\n",
    "5. **Handlungsempfehlungen** für Stakeholder\n",
    "\n",
    "### 📋 **Standardisierte Datenstruktur**\n",
    "```python\n",
    "# Einheitliche Spalten aus der Pipeline:\n",
    "columns = ['price', 'size', 'district', 'rooms', 'year', 'dataset_id', 'source']\n",
    "```\n",
    "\n",
    "---\n",
    "**Teil der modularen Berlin Housing Market Analysis**  \n",
    "**Datum:** 4. Juli 2025  \n",
    "**Version:** 2.0 (Angepasst an neue Pipeline)  \n",
    "**Status:** ✅ Bereit für bereinigte Daten"
   ]
  },
  {
   "cell_type": "markdown",
   "id": "2a2d5df1",
   "metadata": {},
   "source": [
    "## 1. Import Required Libraries\n",
    "Importieren der erforderlichen Python-Bibliotheken für Datenverarbeitung, Analyse und Visualisierung."
   ]
  },
  {
   "cell_type": "code",
   "execution_count": 1,
   "id": "1cf07a03",
   "metadata": {},
   "outputs": [
    {
     "name": "stdout",
     "output_type": "stream",
     "text": [
      "Alle Bibliotheken erfolgreich importiert!\n",
      "Pandas Version: 2.3.0\n",
      "NumPy Version: 2.3.0\n",
      "Matplotlib Version: 3.10.3\n",
      "Seaborn Version: 0.13.2\n",
      "Verarbeitung gestartet am: 2025-07-04 05:15:00\n"
     ]
    }
   ],
   "source": [
    "# Datenmanipulation und -analyse\n",
    "import pandas as pd\n",
    "import numpy as np\n",
    "import warnings\n",
    "warnings.filterwarnings('ignore')\n",
    "\n",
    "# Visualisierung\n",
    "import matplotlib.pyplot as plt\n",
    "import matplotlib\n",
    "import seaborn as sns\n",
    "import plotly.express as px\n",
    "import plotly.graph_objects as go\n",
    "from plotly.subplots import make_subplots\n",
    "\n",
    "# Statistik und Machine Learning\n",
    "from scipy import stats\n",
    "from sklearn.model_selection import train_test_split\n",
    "from sklearn.linear_model import LinearRegression\n",
    "from sklearn.ensemble import RandomForestRegressor\n",
    "from sklearn.metrics import r2_score, mean_squared_error, mean_absolute_error\n",
    "\n",
    "# Textverarbeitung und Regex\n",
    "import re\n",
    "from collections import Counter\n",
    "\n",
    "# Datum und Zeit\n",
    "from datetime import datetime\n",
    "\n",
    "# Konfiguration\n",
    "pd.set_option('display.max_columns', None)\n",
    "pd.set_option('display.width', 1000)\n",
    "pd.set_option('display.max_rows', 50)\n",
    "plt.style.use('seaborn-v0_8')\n",
    "\n",
    "print(\"Alle Bibliotheken erfolgreich importiert!\")\n",
    "print(f\"Pandas Version: {pd.__version__}\")\n",
    "print(f\"NumPy Version: {np.__version__}\")\n",
    "print(f\"Matplotlib Version: {matplotlib.__version__}\")\n",
    "print(f\"Seaborn Version: {sns.__version__}\")\n",
    "print(f\"Verarbeitung gestartet am: {datetime.now().strftime('%Y-%m-%d %H:%M:%S')}\")"
   ]
  },
  {
   "cell_type": "markdown",
   "id": "5ca44272",
   "metadata": {},
   "source": [
    "## 2. Laden der standardisierten Daten\n",
    "### 🎯 **Bereinigte und standardisierte Datensätze aus der Pipeline**\n",
    "\n",
    "Die Datenbereinigung wurde bereits in den spezialisierten Clean-Notebooks durchgeführt:\n",
    "- **Einheitliche Spaltenstruktur:** `price`, `size`, `district`, `rooms`, `year`, `dataset_id`, `source`\n",
    "- **Harmonisierte Filter:** Preis 100€-10.000€, Größe 10m²-500m²\n",
    "- **Qualitätsvalidierung:** Schema-Prüfung und Konsistenz-Tests durchgeführt"
   ]
  },
  {
   "cell_type": "code",
   "execution_count": 8,
   "id": "a1a7269b",
   "metadata": {},
   "outputs": [
    {
     "name": "stdout",
     "output_type": "stream",
     "text": [
      "================================================================================\n",
      "LADEN DES FINALEN KOMBINIERTEN DATASETS\n",
      "================================================================================\n",
      "🎯 Kombiniertes finales Dataset aus der Pipeline:\n",
      "✅ Dataset geladen: 17,826 Zeilen, 7 Spalten\n",
      "📊 Verfügbare Spalten: ['price', 'size', 'district', 'rooms', 'year', 'dataset_id', 'source']\n",
      "\n",
      "=== DATASET-ÜBERSICHT ===\n",
      "Zeitspanne: 2019 - 2025\n",
      "Anzahl Jahre: 3\n",
      "Verfügbare Jahre: [np.int64(2019), np.int64(2022), np.int64(2025)]\n",
      "\n",
      "Bezirke: 87\n",
      "Datenquellen: 3\n",
      "Quellen: ['current', 'historical', 'recent']\n",
      "\n",
      "=== DATENQUALITÄT ===\n",
      "Gesamtzeilen: 17,826\n",
      "  price: 17,826/17,826 (100.0% vollständig)\n",
      "  size: 17,826/17,826 (100.0% vollständig)\n",
      "  district: 17,826/17,826 (100.0% vollständig)\n",
      "  year: 17,826/17,826 (100.0% vollständig)\n",
      "  dataset_id: 17,826/17,826 (100.0% vollständig)\n",
      "  source: 17,826/17,826 (100.0% vollständig)\n",
      "\n",
      "=== PREIS- UND GRÖSSENSTATISTIKEN ===\n",
      "Preis-Statistik:\n",
      "  Min: 150.00€\n",
      "  Max: 9990.00€\n",
      "  Median: 932.89€\n",
      "  Mittelwert: 1159.50€\n",
      "Größen-Statistik:\n",
      "  Min: 10.0m²\n",
      "  Max: 482.0m²\n",
      "  Median: 69.0m²\n",
      "  Mittelwert: 77.3m²\n",
      "\n",
      "=== DATENVERTEILUNG NACH JAHREN ===\n",
      "  2019: 10,387 Einträge (58.3%)\n",
      "  2022: 2,676 Einträge (15.0%)\n",
      "  2025: 4,763 Einträge (26.7%)\n",
      "\n",
      "=== DATENVERTEILUNG NACH QUELLEN ===\n",
      "  historical: 10,387 Einträge (58.3%)\n",
      "  recent: 4,763 Einträge (26.7%)\n",
      "  current: 2,676 Einträge (15.0%)\n",
      "\n",
      "✅ Dataset erfolgreich geladen und validiert!\n",
      "🚀 Bereit für Hauptanalyse mit 17,826 bereinigten Datenpunkten\n"
     ]
    }
   ],
   "source": [
    "# Lade das finale kombinierte Dataset aus der Pipeline\n",
    "print(\"=\" * 80)\n",
    "print(\"LADEN DES FINALEN KOMBINIERTEN DATASETS\")\n",
    "print(\"=\" * 80)\n",
    "\n",
    "# Lade das finale bereinigte und kombinierte Dataset\n",
    "print(\"🎯 Kombiniertes finales Dataset aus der Pipeline:\")\n",
    "combined_df = pd.read_csv('data/processed/berlin_housing_combined_final.csv')\n",
    "\n",
    "print(f\"✅ Dataset geladen: {combined_df.shape[0]:,} Zeilen, {combined_df.shape[1]} Spalten\")\n",
    "print(f\"📊 Verfügbare Spalten: {list(combined_df.columns)}\")\n",
    "\n",
    "# Grundlegende Informationen\n",
    "print(f\"\\n=== DATASET-ÜBERSICHT ===\")\n",
    "print(f\"Zeitspanne: {combined_df['year'].min()} - {combined_df['year'].max()}\")\n",
    "print(f\"Anzahl Jahre: {combined_df['year'].nunique()}\")\n",
    "print(f\"Verfügbare Jahre: {sorted(combined_df['year'].unique())}\")\n",
    "\n",
    "print(f\"\\nBezirke: {combined_df['district'].nunique()}\")\n",
    "print(f\"Datenquellen: {combined_df['dataset_id'].nunique()}\")\n",
    "print(f\"Quellen: {sorted(combined_df['dataset_id'].unique())}\")\n",
    "\n",
    "# Datenqualität prüfen\n",
    "print(f\"\\n=== DATENQUALITÄT ===\")\n",
    "total_rows = len(combined_df)\n",
    "print(f\"Gesamtzeilen: {total_rows:,}\")\n",
    "\n",
    "# Prüfe Vollständigkeit der Standardspalten\n",
    "standard_columns = ['price', 'size', 'district', 'year', 'dataset_id', 'source']\n",
    "for col in standard_columns:\n",
    "    if col in combined_df.columns:\n",
    "        non_null = combined_df[col].notna().sum()\n",
    "        completeness = (non_null / total_rows) * 100\n",
    "        print(f\"  {col}: {non_null:,}/{total_rows:,} ({completeness:.1f}% vollständig)\")\n",
    "    else:\n",
    "        print(f\"  ❌ {col}: Spalte nicht gefunden!\")\n",
    "\n",
    "# Preis- und Größenstatistiken\n",
    "print(f\"\\n=== PREIS- UND GRÖSSENSTATISTIKEN ===\")\n",
    "if 'price' in combined_df.columns:\n",
    "    print(f\"Preis-Statistik:\")\n",
    "    print(f\"  Min: {combined_df['price'].min():.2f}€\")\n",
    "    print(f\"  Max: {combined_df['price'].max():.2f}€\")\n",
    "    print(f\"  Median: {combined_df['price'].median():.2f}€\")\n",
    "    print(f\"  Mittelwert: {combined_df['price'].mean():.2f}€\")\n",
    "\n",
    "if 'size' in combined_df.columns:\n",
    "    print(f\"Größen-Statistik:\")\n",
    "    print(f\"  Min: {combined_df['size'].min():.1f}m²\")\n",
    "    print(f\"  Max: {combined_df['size'].max():.1f}m²\")\n",
    "    print(f\"  Median: {combined_df['size'].median():.1f}m²\")\n",
    "    print(f\"  Mittelwert: {combined_df['size'].mean():.1f}m²\")\n",
    "\n",
    "# Verteilung nach Jahren\n",
    "print(f\"\\n=== DATENVERTEILUNG NACH JAHREN ===\")\n",
    "if 'year' in combined_df.columns:\n",
    "    year_distribution = combined_df['year'].value_counts().sort_index()\n",
    "    for year, count in year_distribution.items():\n",
    "        percentage = (count / total_rows) * 100\n",
    "        print(f\"  {year}: {count:,} Einträge ({percentage:.1f}%)\")\n",
    "\n",
    "# Verteilung nach Datenquellen\n",
    "print(f\"\\n=== DATENVERTEILUNG NACH QUELLEN ===\")\n",
    "if 'dataset_id' in combined_df.columns:\n",
    "    source_distribution = combined_df['dataset_id'].value_counts()\n",
    "    for source, count in source_distribution.items():\n",
    "        percentage = (count / total_rows) * 100\n",
    "        print(f\"  {source}: {count:,} Einträge ({percentage:.1f}%)\")\n",
    "\n",
    "print(f\"\\n✅ Dataset erfolgreich geladen und validiert!\")\n",
    "print(f\"🚀 Bereit für Hauptanalyse mit {total_rows:,} bereinigten Datenpunkten\")"
   ]
  },
  {
   "cell_type": "markdown",
   "id": "d0eb4242",
   "metadata": {},
   "source": [
    "### 🔍 **Datenstruktur-Validierung**\n",
    "Prüfe die standardisierte Struktur und Konsistenz der Pipeline-Daten."
   ]
  },
  {
   "cell_type": "code",
   "execution_count": 3,
   "id": "6d0cfcba",
   "metadata": {},
   "outputs": [
    {
     "name": "stdout",
     "output_type": "stream",
     "text": [
      "================================================================================\n",
      "PIPELINE-DATEN VALIDIERUNG UND STRUKTUR-ANALYSE\n",
      "================================================================================\n",
      "\n",
      "🔍 SCHEMA-VALIDIERUNG\n",
      "Erwartete Standardspalten: ['price', 'size', 'district', 'rooms', 'year', 'dataset_id', 'source']\n",
      "Vorhandene Spalten: ['price', 'size', 'district', 'rooms', 'year', 'dataset_id', 'source']\n",
      "✅ Alle Standardspalten vorhanden\n",
      "\n",
      "📊 DATENTYP-VALIDIERUNG\n",
      "  ✅ price: float64\n",
      "  ✅ size: float64\n",
      "  ✅ district: object\n",
      "  ✅ year: int64\n",
      "  ✅ dataset_id: object\n",
      "  ✅ source: object\n",
      "\n",
      "🎯 FILTER-VALIDIERUNG\n",
      "Prüfe ob Pipeline-Filter korrekt angewendet wurden:\n",
      "  Preis-Filter: 150.00€ - 9990.00€\n",
      "  ✅ Preis-Filter korrekt angewendet (100€ - 10.000€)\n",
      "  Größen-Filter: 10.0m² - 482.0m²\n",
      "  ✅ Größen-Filter korrekt angewendet (10m² - 500m²)\n",
      "\n",
      "🏘️ BEZIRK-VALIDIERUNG\n",
      "Anzahl eindeutiger Bezirke: 87\n",
      "Top 5 Bezirke:\n",
      "  Mitte: 1,921 Einträge\n",
      "  Pankow: 1,189 Einträge\n",
      "  Neukölln: 904 Einträge\n",
      "  Spandau: 837 Einträge\n",
      "  Tiergarten: 832 Einträge\n",
      "  ✅ Alle Bezirke gültig\n",
      "\n",
      "📅 JAHR-VALIDIERUNG\n",
      "Verfügbare Jahre: [np.int64(2019), np.int64(2022), np.int64(2025)]\n",
      "  2019: 10,387 Einträge\n",
      "  2022: 2,676 Einträge\n",
      "  2025: 4,763 Einträge\n",
      "\n",
      "🔗 DATASET-ID VALIDIERUNG\n",
      "Vorhandene Dataset-IDs: ['historical', 'recent', 'current']\n",
      "Erwartete Dataset-IDs: ['historical', 'current', 'recent']\n",
      "  historical: 10,387 Einträge (58.3%)\n",
      "  recent: 4,763 Einträge (26.7%)\n",
      "  current: 2,676 Einträge (15.0%)\n",
      "\n",
      "================================================================================\n",
      "VALIDIERUNG ZUSAMMENFASSUNG\n",
      "================================================================================\n",
      "✅ Dataset erfolgreich aus Pipeline geladen\n",
      "📊 Gesamtdatensätze: 17,826\n",
      "🗓️ Zeitspanne: 2019 - 2025\n",
      "🏘️ Bezirke: 87\n",
      "💰 Preisspanne: 150€ - 9990€\n",
      "📏 Größenspanne: 10m² - 482m²\n",
      "🚀 Bereit für umfassende Analyse!\n"
     ]
    }
   ],
   "source": [
    "# Detaillierte Validierung der Pipeline-Daten\n",
    "print(\"=\" * 80)\n",
    "print(\"PIPELINE-DATEN VALIDIERUNG UND STRUKTUR-ANALYSE\")\n",
    "print(\"=\" * 80)\n",
    "\n",
    "# Schema-Validierung\n",
    "print(f\"\\n🔍 SCHEMA-VALIDIERUNG\")\n",
    "expected_columns = ['price', 'size', 'district', 'rooms', 'year', 'dataset_id', 'source']\n",
    "actual_columns = list(combined_df.columns)\n",
    "\n",
    "print(f\"Erwartete Standardspalten: {expected_columns}\")\n",
    "print(f\"Vorhandene Spalten: {actual_columns}\")\n",
    "\n",
    "# Prüfe ob alle Standardspalten vorhanden sind\n",
    "missing_columns = set(expected_columns) - set(actual_columns)\n",
    "extra_columns = set(actual_columns) - set(expected_columns)\n",
    "\n",
    "if not missing_columns:\n",
    "    print(\"✅ Alle Standardspalten vorhanden\")\n",
    "else:\n",
    "    print(f\"❌ Fehlende Spalten: {missing_columns}\")\n",
    "\n",
    "if extra_columns:\n",
    "    print(f\"📋 Zusätzliche Spalten: {extra_columns}\")\n",
    "\n",
    "# Datentyp-Validierung\n",
    "print(f\"\\n📊 DATENTYP-VALIDIERUNG\")\n",
    "expected_dtypes = {\n",
    "    'price': 'float64',\n",
    "    'size': 'float64', \n",
    "    'district': 'object',\n",
    "    'year': 'int64',\n",
    "    'dataset_id': 'object',\n",
    "    'source': 'object'\n",
    "}\n",
    "\n",
    "for col, expected_dtype in expected_dtypes.items():\n",
    "    if col in combined_df.columns:\n",
    "        actual_dtype = str(combined_df[col].dtype)\n",
    "        if actual_dtype == expected_dtype or (expected_dtype == 'object' and actual_dtype in ['object', 'string']):\n",
    "            print(f\"  ✅ {col}: {actual_dtype}\")\n",
    "        else:\n",
    "            print(f\"  ⚠️ {col}: {actual_dtype} (erwartet: {expected_dtype})\")\n",
    "\n",
    "# Filter-Validierung (prüfe ob Pipeline-Filter korrekt angewendet wurden)\n",
    "print(f\"\\n🎯 FILTER-VALIDIERUNG\")\n",
    "print(\"Prüfe ob Pipeline-Filter korrekt angewendet wurden:\")\n",
    "\n",
    "if 'price' in combined_df.columns:\n",
    "    price_min, price_max = combined_df['price'].min(), combined_df['price'].max()\n",
    "    print(f\"  Preis-Filter: {price_min:.2f}€ - {price_max:.2f}€\")\n",
    "    if price_min >= 100 and price_max <= 10000:\n",
    "        print(\"  ✅ Preis-Filter korrekt angewendet (100€ - 10.000€)\")\n",
    "    else:\n",
    "        print(\"  ⚠️ Preis-Filter möglicherweise nicht korrekt angewendet\")\n",
    "\n",
    "if 'size' in combined_df.columns:\n",
    "    size_min, size_max = combined_df['size'].min(), combined_df['size'].max()\n",
    "    print(f\"  Größen-Filter: {size_min:.1f}m² - {size_max:.1f}m²\")\n",
    "    if size_min >= 10 and size_max <= 500:\n",
    "        print(\"  ✅ Größen-Filter korrekt angewendet (10m² - 500m²)\")\n",
    "    else:\n",
    "        print(\"  ⚠️ Größen-Filter möglicherweise nicht korrekt angewendet\")\n",
    "\n",
    "# Bezirk-Validierung\n",
    "print(f\"\\n🏘️ BEZIRK-VALIDIERUNG\")\n",
    "if 'district' in combined_df.columns:\n",
    "    districts = combined_df['district'].value_counts()\n",
    "    print(f\"Anzahl eindeutiger Bezirke: {len(districts)}\")\n",
    "    print(f\"Top 5 Bezirke:\")\n",
    "    for district, count in districts.head().items():\n",
    "        print(f\"  {district}: {count:,} Einträge\")\n",
    "    \n",
    "    # Prüfe auf null/leere Bezirke\n",
    "    null_districts = combined_df['district'].isnull().sum()\n",
    "    empty_districts = (combined_df['district'] == '').sum()\n",
    "    if null_districts > 0 or empty_districts > 0:\n",
    "        print(f\"  ⚠️ Null/Leere Bezirke: {null_districts + empty_districts}\")\n",
    "    else:\n",
    "        print(\"  ✅ Alle Bezirke gültig\")\n",
    "\n",
    "# Jahr-Validierung\n",
    "print(f\"\\n📅 JAHR-VALIDIERUNG\")\n",
    "if 'year' in combined_df.columns:\n",
    "    years = sorted(combined_df['year'].unique())\n",
    "    print(f\"Verfügbare Jahre: {years}\")\n",
    "    year_counts = combined_df['year'].value_counts().sort_index()\n",
    "    for year, count in year_counts.items():\n",
    "        print(f\"  {year}: {count:,} Einträge\")\n",
    "\n",
    "# Dataset-ID Validierung\n",
    "print(f\"\\n🔗 DATASET-ID VALIDIERUNG\")\n",
    "if 'dataset_id' in combined_df.columns:\n",
    "    dataset_ids = combined_df['dataset_id'].value_counts()\n",
    "    expected_ids = ['historical', 'current', 'recent']\n",
    "    print(f\"Vorhandene Dataset-IDs: {list(dataset_ids.index)}\")\n",
    "    print(f\"Erwartete Dataset-IDs: {expected_ids}\")\n",
    "    \n",
    "    for dataset_id, count in dataset_ids.items():\n",
    "        percentage = (count / len(combined_df)) * 100\n",
    "        print(f\"  {dataset_id}: {count:,} Einträge ({percentage:.1f}%)\")\n",
    "\n",
    "# Zusammenfassung\n",
    "print(f\"\\n{'='*80}\")\n",
    "print(\"VALIDIERUNG ZUSAMMENFASSUNG\")\n",
    "print(f\"{'='*80}\")\n",
    "print(f\"✅ Dataset erfolgreich aus Pipeline geladen\")\n",
    "print(f\"📊 Gesamtdatensätze: {len(combined_df):,}\")\n",
    "print(f\"🗓️ Zeitspanne: {combined_df['year'].min()} - {combined_df['year'].max()}\")\n",
    "print(f\"🏘️ Bezirke: {combined_df['district'].nunique()}\")\n",
    "print(f\"💰 Preisspanne: {combined_df['price'].min():.0f}€ - {combined_df['price'].max():.0f}€\")\n",
    "print(f\"📏 Größenspanne: {combined_df['size'].min():.0f}m² - {combined_df['size'].max():.0f}m²\")\n",
    "print(f\"🚀 Bereit für umfassende Analyse!\")"
   ]
  },
  {
   "cell_type": "markdown",
   "id": "1c09965b",
   "metadata": {},
   "source": [
    "## 3. Explorative Datenanalyse (EDA)\n",
    "### 🔍 **Zeitliche Entwicklung der Mietpreise (2019 → 2022 → 2025)**\n",
    "\n",
    "Analysiere die Entwicklung der Mietpreise über die verfügbaren Zeiträume hinweg mit den standardisierten Pipeline-Daten."
   ]
  },
  {
   "cell_type": "code",
   "execution_count": 4,
   "id": "06772b9d",
   "metadata": {},
   "outputs": [
    {
     "name": "stdout",
     "output_type": "stream",
     "text": [
      "================================================================================\n",
      "ZEITLICHE ENTWICKLUNG DER MIETPREISE (2019 → 2022 → 2025)\n",
      "================================================================================\n",
      "📊 GRUNDLEGENDE ZEITREIHEN-STATISTIK\n",
      "\n",
      "Preis-Statistik nach Jahren:\n",
      "      count     mean  median     std     min     max\n",
      "year                                                \n",
      "2019  10387  1151.40   945.0  778.25  178.16  9500.0\n",
      "2022   2676   966.67   790.6  588.49  180.00  3000.0\n",
      "2025   4763  1285.50  1000.0  987.40  150.00  9990.0\n",
      "\n",
      "📈 PREISENTWICKLUNG\n",
      "Median-Preise nach Jahren:\n",
      "  2019: 945.00€\n",
      "  2022: 790.60€\n",
      "  2025: 1000.00€\n",
      "\n",
      "Veränderungsraten (Median):\n",
      "  2019 → 2022: -154.40€ (-16.3%)\n",
      "  2022 → 2025: +209.40€ (+26.5%)\n",
      "\n",
      "📏 GRÖSSEN-ENTWICKLUNG (PARALLEL)\n",
      "\n",
      "Größen-Statistik nach Jahren:\n",
      "      count  mean  median\n",
      "year                     \n",
      "2019  10387  81.4    72.0\n",
      "2022   2676  69.5    65.1\n",
      "2025   4763  72.8    65.0\n",
      "\n",
      "💰 PREIS PRO M²-ENTWICKLUNG\n",
      "Median Preis pro m² nach Jahren:\n",
      "  2019: 13.23€/m²\n",
      "  2022: 12.88€/m²\n",
      "  2025: 16.19€/m²\n",
      "\n",
      "Veränderungsraten Preis/m² (Median):\n",
      "  2019 → 2022: -0.35€/m² (-2.6%)\n",
      "  2022 → 2025: +3.31€/m² (+25.7%)\n",
      "\n",
      "✅ Zeitreihen-Analyse abgeschlossen\n",
      "🎯 Bereit für detaillierte Visualisierungen und Bezirksvergleiche\n"
     ]
    }
   ],
   "source": [
    "# Zeitliche Entwicklung der Mietpreise mit standardisierten Pipeline-Daten\n",
    "print(\"=\" * 80)\n",
    "print(\"ZEITLICHE ENTWICKLUNG DER MIETPREISE (2019 → 2022 → 2025)\")\n",
    "print(\"=\" * 80)\n",
    "\n",
    "# Grundlegende Zeitreihen-Statistik\n",
    "print(f\"📊 GRUNDLEGENDE ZEITREIHEN-STATISTIK\")\n",
    "yearly_stats = combined_df.groupby('year')['price'].agg([\n",
    "    'count', 'mean', 'median', 'std', 'min', 'max'\n",
    "]).round(2)\n",
    "\n",
    "print(f\"\\nPreis-Statistik nach Jahren:\")\n",
    "print(yearly_stats)\n",
    "\n",
    "# Berechne Preisentwicklung\n",
    "print(f\"\\n📈 PREISENTWICKLUNG\")\n",
    "yearly_median = combined_df.groupby('year')['price'].median()\n",
    "print(f\"Median-Preise nach Jahren:\")\n",
    "for year in sorted(yearly_median.index):\n",
    "    print(f\"  {year}: {yearly_median[year]:.2f}€\")\n",
    "\n",
    "# Berechne Veränderungsraten\n",
    "if len(yearly_median) > 1:\n",
    "    print(f\"\\nVeränderungsraten (Median):\")\n",
    "    years = sorted(yearly_median.index)\n",
    "    for i in range(1, len(years)):\n",
    "        current_year = years[i]\n",
    "        previous_year = years[i-1]\n",
    "        current_price = yearly_median[current_year]\n",
    "        previous_price = yearly_median[previous_year]\n",
    "        \n",
    "        change_abs = current_price - previous_price\n",
    "        change_pct = (change_abs / previous_price) * 100\n",
    "        \n",
    "        print(f\"  {previous_year} → {current_year}: {change_abs:+.2f}€ ({change_pct:+.1f}%)\")\n",
    "\n",
    "# Größenentwicklung parallel analysieren\n",
    "print(f\"\\n📏 GRÖSSEN-ENTWICKLUNG (PARALLEL)\")\n",
    "size_yearly_stats = combined_df.groupby('year')['size'].agg([\n",
    "    'count', 'mean', 'median'\n",
    "]).round(1)\n",
    "print(f\"\\nGrößen-Statistik nach Jahren:\")\n",
    "print(size_yearly_stats)\n",
    "\n",
    "# Preis pro m² Entwicklung\n",
    "print(f\"\\n💰 PREIS PRO M²-ENTWICKLUNG\")\n",
    "combined_df['price_per_sqm'] = combined_df['price'] / combined_df['size']\n",
    "price_per_sqm_yearly = combined_df.groupby('year')['price_per_sqm'].median().round(2)\n",
    "\n",
    "print(f\"Median Preis pro m² nach Jahren:\")\n",
    "for year in sorted(price_per_sqm_yearly.index):\n",
    "    print(f\"  {year}: {price_per_sqm_yearly[year]:.2f}€/m²\")\n",
    "\n",
    "# Berechne Preis/m² Veränderungsraten\n",
    "if len(price_per_sqm_yearly) > 1:\n",
    "    print(f\"\\nVeränderungsraten Preis/m² (Median):\")\n",
    "    years = sorted(price_per_sqm_yearly.index)\n",
    "    for i in range(1, len(years)):\n",
    "        current_year = years[i]\n",
    "        previous_year = years[i-1]\n",
    "        current_price_sqm = price_per_sqm_yearly[current_year]\n",
    "        previous_price_sqm = price_per_sqm_yearly[previous_year]\n",
    "        \n",
    "        change_abs_sqm = current_price_sqm - previous_price_sqm\n",
    "        change_pct_sqm = (change_abs_sqm / previous_price_sqm) * 100\n",
    "        \n",
    "        print(f\"  {previous_year} → {current_year}: {change_abs_sqm:+.2f}€/m² ({change_pct_sqm:+.1f}%)\")\n",
    "\n",
    "print(f\"\\n✅ Zeitreihen-Analyse abgeschlossen\")\n",
    "print(f\"🎯 Bereit für detaillierte Visualisierungen und Bezirksvergleiche\")"
   ]
  },
  {
   "cell_type": "markdown",
   "id": "2f40d21d",
   "metadata": {},
   "source": [
    "### 📊 **Visualisierung der Zeitreihen-Entwicklung**\n",
    "Erstelle umfassende Visualisierungen der Mietpreisentwicklung über die Jahre."
   ]
  },
  {
   "cell_type": "code",
   "execution_count": 6,
   "id": "ed7ef999",
   "metadata": {},
   "outputs": [
    {
     "name": "stdout",
     "output_type": "stream",
     "text": [
      "================================================================================\n",
      "VISUALISIERUNG DER ZEITREIHEN-ENTWICKLUNG\n",
      "================================================================================\n"
     ]
    },
    {
     "data": {
      "application/vnd.plotly.v1+json": {
       "config": {
        "plotlyServerURL": "https://plot.ly"
       },
       "data": [
        {
         "line": {
          "width": 3
         },
         "marker": {
          "size": 10
         },
         "mode": "lines+markers",
         "name": "Median Preis",
         "type": "scatter",
         "x": {
          "bdata": "4wfmB+kH",
          "dtype": "i2"
         },
         "xaxis": "x",
         "y": {
          "bdata": "AAAAAACIjUDNzMzMzLSIQAAAAAAAQI9A",
          "dtype": "f8"
         },
         "yaxis": "y"
        },
        {
         "line": {
          "color": "orange",
          "width": 3
         },
         "marker": {
          "size": 10
         },
         "mode": "lines+markers",
         "name": "Median €/m²",
         "type": "scatter",
         "x": {
          "bdata": "4wfmB+kH",
          "dtype": "i2"
         },
         "xaxis": "x2",
         "y": {
          "bdata": "nU6n0+l0KkDyEt+xUsQpQAzDMAzDMDBA",
          "dtype": "f8"
         },
         "yaxis": "y2"
        },
        {
         "marker": {
          "color": "lightblue"
         },
         "name": "Anzahl Wohnungen",
         "type": "bar",
         "x": {
          "bdata": "4wfmB+kH",
          "dtype": "i2"
         },
         "xaxis": "x3",
         "y": {
          "bdata": "kyh0CpsS",
          "dtype": "i2"
         },
         "yaxis": "y3"
        },
        {
         "line": {
          "color": "green",
          "width": 3
         },
         "marker": {
          "size": 10
         },
         "mode": "lines+markers",
         "name": "Median Größe",
         "type": "scatter",
         "x": {
          "bdata": "4wfmB+kH",
          "dtype": "i2"
         },
         "xaxis": "x4",
         "y": {
          "bdata": "AAAAAAAAUkAehetRuEZQQAAAAAAAQFBA",
          "dtype": "f8"
         },
         "yaxis": "y4"
        },
        {
         "line": {
          "color": "red"
         },
         "mode": "lines+markers",
         "name": "Median",
         "type": "scatter",
         "x": {
          "bdata": "4wfmB+kH",
          "dtype": "i2"
         },
         "xaxis": "x5",
         "y": {
          "bdata": "AAAAAACIjUDNzMzMzLSIQAAAAAAAQI9A",
          "dtype": "f8"
         },
         "yaxis": "y5"
        },
        {
         "line": {
          "color": "blue",
          "dash": "dash"
         },
         "mode": "lines+markers",
         "name": "Mittelwert",
         "type": "scatter",
         "x": {
          "bdata": "4wfmB+kH",
          "dtype": "i2"
         },
         "xaxis": "x5",
         "y": {
          "bdata": "mpmZmZn9kUCPwvUoXDWOQAAAAAAAFpRA",
          "dtype": "f8"
         },
         "yaxis": "y5"
        },
        {
         "marker": {
          "opacity": 0.6,
          "size": 4
         },
         "mode": "markers",
         "name": "Daten 2019",
         "type": "scatter",
         "x": {
          "bdata": "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",
          "dtype": "f8"
         },
         "xaxis": "x6",
         "y": {
          "bdata": "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",
          "dtype": "f8"
         },
         "yaxis": "y6"
        },
        {
         "marker": {
          "opacity": 0.6,
          "size": 4
         },
         "mode": "markers",
         "name": "Daten 2022",
         "type": "scatter",
         "x": {
          "bdata": "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",
          "dtype": "f8"
         },
         "xaxis": "x6",
         "y": {
          "bdata": "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",
          "dtype": "f8"
         },
         "yaxis": "y6"
        },
        {
         "marker": {
          "opacity": 0.6,
          "size": 4
         },
         "mode": "markers",
         "name": "Daten 2025",
         "type": "scatter",
         "x": {
          "bdata": "AAAAAADAV0B7FK5H4TpBQAAAAAAAAFBAAAAAAAAATkAAAAAAAABPQAAAAAAAAERAXI/C9SiMYkAAAAAAAMBcQAAAAAAAwFJAFK5H4XoUUEAAAAAAAMBVQAAAAAAAgEZAAAAAAABAUkAAAAAAAMBQQAAAAAAAQFFAAAAAAABAUkAAAAAAAIBDQPYoXI/CVUpAAAAAAACAS0AAAAAAAMBaQAAAAAAAgE1AAAAAAACAUECamZmZmdlIQAAAAAAAAFJAAAAAAACAWkAAAAAAAABFQAAAAAAAgFRAw/UoXI+yYkApXI/C9ShSQAAAAAAAwFRAAAAAAAAAREAAAAAAAABeQAAAAAAAwENAAAAAAACATkAAAAAAAABdQAAAAAAAQE5AAAAAAAAAS0AAAAAAAMBQQAAAAAAA4GBAAAAAAAAAWUAAAAAAAIBAQAAAAAAAwFNAAAAAAAAATkAAAAAAAEBRQEjhehSud1BAAAAAAAAAVEAAAAAAAABSQAAAAAAAgEdAAAAAAAAATkD2KFyPwlVKQAAAAAAAAFRAAAAAAACATEDD9ShcjwI8QAAAAAAAAFRAFK5H4XqAckDhehSuRyFgQAAAAAAAAERAAAAAAAAAUEAAAAAAAABDQAAAAAAAgFpAAAAAAAAASUAAAAAAAABQQAAAAAAAAFBAAAAAAACARUAzMzMzM+NgQAAAAAAAgEhAAAAAAACAU0C4HoXrUYBnQAAAAAAAgEtAAAAAAACAREAfhetRuL5TQAAAAAAAgEVAAAAAAACAT0AAAAAAAIBSQAAAAAAAAE5A16NwPQpXSUAAAAAAAABOQAAAAAAAwFRAAAAAAADAV0AAAAAAAEBQQAAAAAAAgFNAAAAAAACAU0AAAAAAAABRQAAAAAAAgFJAKVyPwvVYXkDNzMzMzIxXQAAAAAAAgFpAAAAAAACAX0AAAAAAAABOQAAAAAAAQFNAj8L1KFw/YEAAAAAAAIBPQAAAAAAAgExAAAAAAAAATECPwvUoXO9TQOxRuB6FK1BAexSuR+HaSUAAAAAAAMBTQAAAAAAAwFtAAAAAAACAS0AAAAAAAABFQAAAAAAAAERAAAAAAAAARUAAAAAAAABMQAAAAAAAAFBAAAAAAADAV0AAAAAAAABZQFyPwvUorFRAAAAAAABAcUAAAAAAAABSQAAAAAAAAEhAAAAAAAAASUAAAAAAAABcQLgehetR2FFACtejcD3aVUAAAAAAAABMQAAAAAAAAElAAAAAAAAAT0AAAAAAAABJQAAAAAAAIGhAAAAAAABAVkAAAAAAAABGQAAAAAAAAFBAZmZmZmYOYkDNzMzMzMxPQEjhehSuF1ZAAAAAAAAARUAAAAAAAABXQAAAAAAAQFpAAAAAAAAAVUAAAAAAAABJQOxRuB6Fg2xAAAAAAACAYUAAAAAAAIBPQAAAAAAAQFZAAAAAAACASUAAAAAAAIBMQAAAAAAAAEdAAAAAAADAWEAAAAAAAIBBQAAAAAAAAEJAAAAAAACAUEAAAAAAAIBGQAAAAAAAgE1AAAAAAADAUEAAAAAAAABKQAAAAAAAAD9AAAAAAACAS0AAAAAAAABKQAAAAAAAgFFAAAAAAACATkAAAAAAAABOQAAAAAAAAFxAAAAAAACAUEAzMzMzM3NEQM3MzMzMjFVAAAAAAAAAUEAAAAAAAIBZQHE9CtejcD9AAAAAAAAAREAAAAAAACBhQNejcD0KZ1VAAAAAAAAAQUAAAAAAAMBSQAAAAAAAADlAAAAAAADAUUAAAAAAAMBWQAAAAAAAAFVAAAAAAAAAWkAAAAAAAIBIQAAAAAAAAE5AAAAAAABAVUAAAAAAAAA+QPYoXI/CtThAAAAAAADAV0AAAAAAAEBYQAAAAAAAgEtAAAAAAAAATkBcj8L1KNw0QAAAAAAAwFRAAAAAAAAASUAAAAAAAMBXQAAAAAAAAEBAAAAAAAAAPkAAAAAAAABJQAAAAAAAAEpAAAAAAACATkAAAAAAAABLQAAAAAAAgEZAAAAAAACAS0AAAAAAAABCQGZmZmZm5lZAAAAAAADAVUAAAAAAAIBGQAAAAAAAgFdAKVyPwvUoVEAAAAAAAABZQAAAAAAAAF5AAAAAAAAAVUAAAAAAAAA3QAAAAAAAAFFAAAAAAABAVUAAAAAAAABKQAAAAAAAAE9AAAAAAACARUAAAAAAAABJQAAAAAAAAEpAAAAAAACgZEAAAAAAAABJQAAAAAAAAEZAAAAAAACAQkCuR+F6FG5CQAAAAAAAgEtAAAAAAACgYEBI4XoUrgdYQBSuR+F6tEZAhetRuB5VVkAAAAAAAABPQAAAAAAAgEtAAAAAAACAQ0AAAAAAAIBhQAAAAAAAAElAAAAAAACATUBmZmZmZmY0QAAAAAAAQGZAAAAAAADAUkAAAAAAAABBQAAAAAAAAFJAAAAAAAAAS0AAAAAAAIBVQAAAAAAAgGFASOF6FK5nQkAAAAAAAEBQQAAAAAAAgEZAAAAAAAAAREAAAAAAAAA8QDMzMzMz00JAAAAAAACAUkApXI/C9aR1QAAAAAAAgEFAAAAAAAAAVUAAAAAAAABHQAAAAAAAQFVAAAAAAACARkCamZmZmeFuQAAAAAAAgEtAAAAAAAAASUCamZmZmdlLQAAAAAAAAFtAAAAAAABAU0AAAAAAAEBUQAAAAAAAQFVArkfhehQOT0AAAAAAAEBQQAAAAAAAAFJAAAAAAAAAVkAAAAAAAABEQIXrUbgeRWBAAAAAAAAANEAAAAAAAMBRQAAAAAAAwFJAAAAAAADAUkAAAAAAAMBhQAAAAAAAgFJAAAAAAAAATkAAAAAAANB1QAAAAAAAQFJAAAAAAACAQ0AAAAAAAIBHQAAAAAAAgFZAAAAAAACAR0AAAAAAAABCQAAAAAAAgFNACtejcD1aWEAAAAAAAMBQQAAAAAAAQFBAAAAAAACAUUBcj8L1KDxPQAAAAAAAAFlAAAAAAADAWUAAAAAAAABLQAAAAAAA4GBAAAAAAAAAS0AAAAAAAEBYQAAAAAAAwGdAAAAAAAAAREAAAAAAAMBSQLgehetR+EtAAAAAAADAUkAAAAAAAIBRQDMzMzMzE1ZAMzMzMzMzUUAAAAAAADByQM3MzMzM7F9AAAAAAACgTkAAAAAAAEBYQAAAAAAAADRAAAAAAADAUEAAAAAAAIBbQAAAAAAAQFFAAAAAAAAAXkAAAAAAAABPQAAAAAAAAEZAAAAAAABAYEAAAAAAAIBWQAAAAAAAAElAAAAAAACARkAAAAAAAGBmQAAAAAAAgEdAw/UoXI9CRkAAAAAAAABOQAAAAAAAQFJAH4XrUbgeV0CkcD0K14NVQAAAAAAAAE9ArkfhehSOX0AAAAAAAEBSQAAAAAAAYFNAAAAAAAAATUAAAAAAAMBQQDMzMzMz80dAAAAAAACAVUCPwvUoXN9RQHsUrkfhOkRAAAAAAABAX0AAAAAAAABJQD0K16Nw3VJAhetRuB4lW0AAAAAAAMBQQAAAAAAAgENAzczMzMycWUAAAAAAAABQQI/C9Shcb1NAAAAAAAAATUAfhetRuD5NQOxRuB6Fm1VAAAAAAACAW0AAAAAAAMBSQAAAAAAAwFVAAAAAAACAUUAUrkfhepQ2QAAAAAAAgFZASOF6FK7HR0AAAAAAAIBLQAAAAAAAAFVAAAAAAAAATkAAAAAAAABJQAAAAAAAgFNAAAAAAAAASUAAAAAAAABJQAAAAAAAAENArkfhehROQUAzMzMzMzM0QAAAAAAAQFdAAAAAAACASUAK16NwPQpQQAAAAAAAAFNAAAAAAABAWEDD9Shcj0JIQAAAAAAAAEFAAAAAAACAR0AAAAAAAIBRQAAAAAAAgFFAAAAAAAAAOUAAAAAAAMBSQAAAAAAAgFVAAAAAAAAASUAAAAAAAABOQAAAAAAAgFZAAAAAAACAWUAAAAAAAABDQFK4HoXrEWFAAAAAAACAVkAAAAAAAABOQHE9CtejkFFAAAAAAACAUEBI4XoUrjdjQFK4HoXrYVZAAAAAAAAAUUAAAAAAAABOQAAAAAAAgEtAAAAAAACATEAAAAAAAABHQAAAAAAAQFBAAAAAAADAVEAAAAAAAABJQAAAAAAAAFNAAAAAAAAAVUAAAAAAAABOQOxRuB6F22BAAAAAAACAS0AAAAAAAABLQAAAAAAAgEtAAAAAAACAUUAAAAAAAIBSQAAAAAAAQFRAAAAAAABAV0DhehSuR8FNQAAAAAAAwFJACtejcD16WkAAAAAAAIBRQAAAAAAAAEpAZmZmZmZGT0AAAAAAAIBLQAAAAAAAgGFAAAAAAAAASkAAAAAAAIBbQAAAAAAAAFRAAAAAAAB4a0AAAAAAAMBSQAAAAAAAgE9AAAAAAAAATkAzMzMzM7M9QAAAAAAAgEtAAAAAAAAAREAK16NwPUpUQAAAAAAAgEtAAAAAAABAXUAAAAAAAIBVQAAAAAAAAElAAAAAAACAWkAAAAAAAEBVQAAAAAAAAFVAAAAAAADAUkAAAAAAAABHQJqZmZmZ2VVA16NwPQrXNUAAAAAAAABSQAAAAAAAgElAAAAAAAAAQkAAAAAAAAA+QAAAAAAAQFNAmpmZmZl5T0AAAAAAAIBLQEjhehSun2FAAAAAAADAYkAAAAAAAEBWQAAAAAAAAD5ASOF6FK47cUAAAAAAAIBLQAAAAAAAQGBAMzMzMzPjYkAAAAAAAOBkQAAAAAAAgFJAAAAAAADAVEAAAAAAAEBUQJqZmZmZeU9AAAAAAAAAUkAAAAAAAAA+QAAAAAAAgFNAzczMzMwMTUAAAAAAAIBHQAAAAAAAkHZAAAAAAAAAT0AAAAAAAAA1QOF6FK5H0VBAAAAAAADAckAAAAAAAABPQAAAAAAAAFFAAAAAAAAATUCF61G4HsVEQAAAAAAAAEdAAAAAAADAVEAAAAAAAABHQAAAAAAAgEZAAAAAAABAQ0AAAAAAAIBRQAAAAAAAQFpAAAAAAACASkAAAAAAAABOQAAAAAAAwFBAzczMzMzMUEAAAAAAAABUQAAAAAAAgEpAAAAAAAAAQkAAAAAAAIBCQHE9CtejMFFAAAAAAABARkAAAAAAAABJQLgehetReEtAAAAAAADAV0AAAAAAAIBGQAAAAAAAgElAAAAAAAAAYEAAAAAAAABPQAAAAAAAgFtAAAAAAACAVkB7FK5H4VpYQAAAAAAAAGRAAAAAAABAV0CamZmZmalSQAAAAAAAAFRAAAAAAACAUUAAAAAAAIBOQAAAAAAAwFxAAAAAAAAATkAAAAAAAEBQQHsUrkfhOl1AAAAAAABAUEAAAAAAAEBVQAAAAAAAAF1AAAAAAACAUUAAAAAAAABIQAAAAAAAAFRAAAAAAABAUEAAAAAAAIBLQHE9Ctej0FFAAAAAAACAYUAAAAAAABBfQAAAAAAAAENAAAAAAADAV0AAAAAAAEBQQIXrUbge+XVAXI/C9SgcT0AAAAAAAABKQOF6FK5H0VBAAAAAAAAAS0AAAAAAAEBRQAAAAAAAAENAAAAAAACAUUAAAAAAAABFQM3MzMzM/FJAzczMzMxMUEAAAAAAAIBJQJqZmZmZsWRAKVyPwvUoTkCuR+F6FP5RQAAAAAAAgENAAAAAAADAVEAAAAAAAEBQQA==",
          "dtype": "f8"
         },
         "xaxis": "x6",
         "y": {
          "bdata": "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",
          "dtype": "f8"
         },
         "yaxis": "y6"
        }
       ],
       "layout": {
        "annotations": [
         {
          "font": {
           "size": 16
          },
          "showarrow": false,
          "text": "Median-Preisentwicklung",
          "x": 0.14444444444444446,
          "xanchor": "center",
          "xref": "paper",
          "y": 1,
          "yanchor": "bottom",
          "yref": "paper"
         },
         {
          "font": {
           "size": 16
          },
          "showarrow": false,
          "text": "Preis pro m² Entwicklung",
          "x": 0.5,
          "xanchor": "center",
          "xref": "paper",
          "y": 1,
          "yanchor": "bottom",
          "yref": "paper"
         },
         {
          "font": {
           "size": 16
          },
          "showarrow": false,
          "text": "Anzahl Wohnungen nach Jahren",
          "x": 0.8555555555555556,
          "xanchor": "center",
          "xref": "paper",
          "y": 1,
          "yanchor": "bottom",
          "yref": "paper"
         },
         {
          "font": {
           "size": 16
          },
          "showarrow": false,
          "text": "Größenverteilung",
          "x": 0.14444444444444446,
          "xanchor": "center",
          "xref": "paper",
          "y": 0.375,
          "yanchor": "bottom",
          "yref": "paper"
         },
         {
          "font": {
           "size": 16
          },
          "showarrow": false,
          "text": "Preis-Boxplots",
          "x": 0.5,
          "xanchor": "center",
          "xref": "paper",
          "y": 0.375,
          "yanchor": "bottom",
          "yref": "paper"
         },
         {
          "font": {
           "size": 16
          },
          "showarrow": false,
          "text": "Preis vs. Größe (Sample)",
          "x": 0.8555555555555556,
          "xanchor": "center",
          "xref": "paper",
          "y": 0.375,
          "yanchor": "bottom",
          "yref": "paper"
         }
        ],
        "height": 800,
        "showlegend": true,
        "template": {
         "data": {
          "bar": [
           {
            "error_x": {
             "color": "#2a3f5f"
            },
            "error_y": {
             "color": "#2a3f5f"
            },
            "marker": {
             "line": {
              "color": "#E5ECF6",
              "width": 0.5
             },
             "pattern": {
              "fillmode": "overlay",
              "size": 10,
              "solidity": 0.2
             }
            },
            "type": "bar"
           }
          ],
          "barpolar": [
           {
            "marker": {
             "line": {
              "color": "#E5ECF6",
              "width": 0.5
             },
             "pattern": {
              "fillmode": "overlay",
              "size": 10,
              "solidity": 0.2
             }
            },
            "type": "barpolar"
           }
          ],
          "carpet": [
           {
            "aaxis": {
             "endlinecolor": "#2a3f5f",
             "gridcolor": "white",
             "linecolor": "white",
             "minorgridcolor": "white",
             "startlinecolor": "#2a3f5f"
            },
            "baxis": {
             "endlinecolor": "#2a3f5f",
             "gridcolor": "white",
             "linecolor": "white",
             "minorgridcolor": "white",
             "startlinecolor": "#2a3f5f"
            },
            "type": "carpet"
           }
          ],
          "choropleth": [
           {
            "colorbar": {
             "outlinewidth": 0,
             "ticks": ""
            },
            "type": "choropleth"
           }
          ],
          "contour": [
           {
            "colorbar": {
             "outlinewidth": 0,
             "ticks": ""
            },
            "colorscale": [
             [
              0,
              "#0d0887"
             ],
             [
              0.1111111111111111,
              "#46039f"
             ],
             [
              0.2222222222222222,
              "#7201a8"
             ],
             [
              0.3333333333333333,
              "#9c179e"
             ],
             [
              0.4444444444444444,
              "#bd3786"
             ],
             [
              0.5555555555555556,
              "#d8576b"
             ],
             [
              0.6666666666666666,
              "#ed7953"
             ],
             [
              0.7777777777777778,
              "#fb9f3a"
             ],
             [
              0.8888888888888888,
              "#fdca26"
             ],
             [
              1,
              "#f0f921"
             ]
            ],
            "type": "contour"
           }
          ],
          "contourcarpet": [
           {
            "colorbar": {
             "outlinewidth": 0,
             "ticks": ""
            },
            "type": "contourcarpet"
           }
          ],
          "heatmap": [
           {
            "colorbar": {
             "outlinewidth": 0,
             "ticks": ""
            },
            "colorscale": [
             [
              0,
              "#0d0887"
             ],
             [
              0.1111111111111111,
              "#46039f"
             ],
             [
              0.2222222222222222,
              "#7201a8"
             ],
             [
              0.3333333333333333,
              "#9c179e"
             ],
             [
              0.4444444444444444,
              "#bd3786"
             ],
             [
              0.5555555555555556,
              "#d8576b"
             ],
             [
              0.6666666666666666,
              "#ed7953"
             ],
             [
              0.7777777777777778,
              "#fb9f3a"
             ],
             [
              0.8888888888888888,
              "#fdca26"
             ],
             [
              1,
              "#f0f921"
             ]
            ],
            "type": "heatmap"
           }
          ],
          "histogram": [
           {
            "marker": {
             "pattern": {
              "fillmode": "overlay",
              "size": 10,
              "solidity": 0.2
             }
            },
            "type": "histogram"
           }
          ],
          "histogram2d": [
           {
            "colorbar": {
             "outlinewidth": 0,
             "ticks": ""
            },
            "colorscale": [
             [
              0,
              "#0d0887"
             ],
             [
              0.1111111111111111,
              "#46039f"
             ],
             [
              0.2222222222222222,
              "#7201a8"
             ],
             [
              0.3333333333333333,
              "#9c179e"
             ],
             [
              0.4444444444444444,
              "#bd3786"
             ],
             [
              0.5555555555555556,
              "#d8576b"
             ],
             [
              0.6666666666666666,
              "#ed7953"
             ],
             [
              0.7777777777777778,
              "#fb9f3a"
             ],
             [
              0.8888888888888888,
              "#fdca26"
             ],
             [
              1,
              "#f0f921"
             ]
            ],
            "type": "histogram2d"
           }
          ],
          "histogram2dcontour": [
           {
            "colorbar": {
             "outlinewidth": 0,
             "ticks": ""
            },
            "colorscale": [
             [
              0,
              "#0d0887"
             ],
             [
              0.1111111111111111,
              "#46039f"
             ],
             [
              0.2222222222222222,
              "#7201a8"
             ],
             [
              0.3333333333333333,
              "#9c179e"
             ],
             [
              0.4444444444444444,
              "#bd3786"
             ],
             [
              0.5555555555555556,
              "#d8576b"
             ],
             [
              0.6666666666666666,
              "#ed7953"
             ],
             [
              0.7777777777777778,
              "#fb9f3a"
             ],
             [
              0.8888888888888888,
              "#fdca26"
             ],
             [
              1,
              "#f0f921"
             ]
            ],
            "type": "histogram2dcontour"
           }
          ],
          "mesh3d": [
           {
            "colorbar": {
             "outlinewidth": 0,
             "ticks": ""
            },
            "type": "mesh3d"
           }
          ],
          "parcoords": [
           {
            "line": {
             "colorbar": {
              "outlinewidth": 0,
              "ticks": ""
             }
            },
            "type": "parcoords"
           }
          ],
          "pie": [
           {
            "automargin": true,
            "type": "pie"
           }
          ],
          "scatter": [
           {
            "fillpattern": {
             "fillmode": "overlay",
             "size": 10,
             "solidity": 0.2
            },
            "type": "scatter"
           }
          ],
          "scatter3d": [
           {
            "line": {
             "colorbar": {
              "outlinewidth": 0,
              "ticks": ""
             }
            },
            "marker": {
             "colorbar": {
              "outlinewidth": 0,
              "ticks": ""
             }
            },
            "type": "scatter3d"
           }
          ],
          "scattercarpet": [
           {
            "marker": {
             "colorbar": {
              "outlinewidth": 0,
              "ticks": ""
             }
            },
            "type": "scattercarpet"
           }
          ],
          "scattergeo": [
           {
            "marker": {
             "colorbar": {
              "outlinewidth": 0,
              "ticks": ""
             }
            },
            "type": "scattergeo"
           }
          ],
          "scattergl": [
           {
            "marker": {
             "colorbar": {
              "outlinewidth": 0,
              "ticks": ""
             }
            },
            "type": "scattergl"
           }
          ],
          "scattermap": [
           {
            "marker": {
             "colorbar": {
              "outlinewidth": 0,
              "ticks": ""
             }
            },
            "type": "scattermap"
           }
          ],
          "scattermapbox": [
           {
            "marker": {
             "colorbar": {
              "outlinewidth": 0,
              "ticks": ""
             }
            },
            "type": "scattermapbox"
           }
          ],
          "scatterpolar": [
           {
            "marker": {
             "colorbar": {
              "outlinewidth": 0,
              "ticks": ""
             }
            },
            "type": "scatterpolar"
           }
          ],
          "scatterpolargl": [
           {
            "marker": {
             "colorbar": {
              "outlinewidth": 0,
              "ticks": ""
             }
            },
            "type": "scatterpolargl"
           }
          ],
          "scatterternary": [
           {
            "marker": {
             "colorbar": {
              "outlinewidth": 0,
              "ticks": ""
             }
            },
            "type": "scatterternary"
           }
          ],
          "surface": [
           {
            "colorbar": {
             "outlinewidth": 0,
             "ticks": ""
            },
            "colorscale": [
             [
              0,
              "#0d0887"
             ],
             [
              0.1111111111111111,
              "#46039f"
             ],
             [
              0.2222222222222222,
              "#7201a8"
             ],
             [
              0.3333333333333333,
              "#9c179e"
             ],
             [
              0.4444444444444444,
              "#bd3786"
             ],
             [
              0.5555555555555556,
              "#d8576b"
             ],
             [
              0.6666666666666666,
              "#ed7953"
             ],
             [
              0.7777777777777778,
              "#fb9f3a"
             ],
             [
              0.8888888888888888,
              "#fdca26"
             ],
             [
              1,
              "#f0f921"
             ]
            ],
            "type": "surface"
           }
          ],
          "table": [
           {
            "cells": {
             "fill": {
              "color": "#EBF0F8"
             },
             "line": {
              "color": "white"
             }
            },
            "header": {
             "fill": {
              "color": "#C8D4E3"
             },
             "line": {
              "color": "white"
             }
            },
            "type": "table"
           }
          ]
         },
         "layout": {
          "annotationdefaults": {
           "arrowcolor": "#2a3f5f",
           "arrowhead": 0,
           "arrowwidth": 1
          },
          "autotypenumbers": "strict",
          "coloraxis": {
           "colorbar": {
            "outlinewidth": 0,
            "ticks": ""
           }
          },
          "colorscale": {
           "diverging": [
            [
             0,
             "#8e0152"
            ],
            [
             0.1,
             "#c51b7d"
            ],
            [
             0.2,
             "#de77ae"
            ],
            [
             0.3,
             "#f1b6da"
            ],
            [
             0.4,
             "#fde0ef"
            ],
            [
             0.5,
             "#f7f7f7"
            ],
            [
             0.6,
             "#e6f5d0"
            ],
            [
             0.7,
             "#b8e186"
            ],
            [
             0.8,
             "#7fbc41"
            ],
            [
             0.9,
             "#4d9221"
            ],
            [
             1,
             "#276419"
            ]
           ],
           "sequential": [
            [
             0,
             "#0d0887"
            ],
            [
             0.1111111111111111,
             "#46039f"
            ],
            [
             0.2222222222222222,
             "#7201a8"
            ],
            [
             0.3333333333333333,
             "#9c179e"
            ],
            [
             0.4444444444444444,
             "#bd3786"
            ],
            [
             0.5555555555555556,
             "#d8576b"
            ],
            [
             0.6666666666666666,
             "#ed7953"
            ],
            [
             0.7777777777777778,
             "#fb9f3a"
            ],
            [
             0.8888888888888888,
             "#fdca26"
            ],
            [
             1,
             "#f0f921"
            ]
           ],
           "sequentialminus": [
            [
             0,
             "#0d0887"
            ],
            [
             0.1111111111111111,
             "#46039f"
            ],
            [
             0.2222222222222222,
             "#7201a8"
            ],
            [
             0.3333333333333333,
             "#9c179e"
            ],
            [
             0.4444444444444444,
             "#bd3786"
            ],
            [
             0.5555555555555556,
             "#d8576b"
            ],
            [
             0.6666666666666666,
             "#ed7953"
            ],
            [
             0.7777777777777778,
             "#fb9f3a"
            ],
            [
             0.8888888888888888,
             "#fdca26"
            ],
            [
             1,
             "#f0f921"
            ]
           ]
          },
          "colorway": [
           "#636efa",
           "#EF553B",
           "#00cc96",
           "#ab63fa",
           "#FFA15A",
           "#19d3f3",
           "#FF6692",
           "#B6E880",
           "#FF97FF",
           "#FECB52"
          ],
          "font": {
           "color": "#2a3f5f"
          },
          "geo": {
           "bgcolor": "white",
           "lakecolor": "white",
           "landcolor": "#E5ECF6",
           "showlakes": true,
           "showland": true,
           "subunitcolor": "white"
          },
          "hoverlabel": {
           "align": "left"
          },
          "hovermode": "closest",
          "mapbox": {
           "style": "light"
          },
          "paper_bgcolor": "white",
          "plot_bgcolor": "#E5ECF6",
          "polar": {
           "angularaxis": {
            "gridcolor": "white",
            "linecolor": "white",
            "ticks": ""
           },
           "bgcolor": "#E5ECF6",
           "radialaxis": {
            "gridcolor": "white",
            "linecolor": "white",
            "ticks": ""
           }
          },
          "scene": {
           "xaxis": {
            "backgroundcolor": "#E5ECF6",
            "gridcolor": "white",
            "gridwidth": 2,
            "linecolor": "white",
            "showbackground": true,
            "ticks": "",
            "zerolinecolor": "white"
           },
           "yaxis": {
            "backgroundcolor": "#E5ECF6",
            "gridcolor": "white",
            "gridwidth": 2,
            "linecolor": "white",
            "showbackground": true,
            "ticks": "",
            "zerolinecolor": "white"
           },
           "zaxis": {
            "backgroundcolor": "#E5ECF6",
            "gridcolor": "white",
            "gridwidth": 2,
            "linecolor": "white",
            "showbackground": true,
            "ticks": "",
            "zerolinecolor": "white"
           }
          },
          "shapedefaults": {
           "line": {
            "color": "#2a3f5f"
           }
          },
          "ternary": {
           "aaxis": {
            "gridcolor": "white",
            "linecolor": "white",
            "ticks": ""
           },
           "baxis": {
            "gridcolor": "white",
            "linecolor": "white",
            "ticks": ""
           },
           "bgcolor": "#E5ECF6",
           "caxis": {
            "gridcolor": "white",
            "linecolor": "white",
            "ticks": ""
           }
          },
          "title": {
           "x": 0.05
          },
          "xaxis": {
           "automargin": true,
           "gridcolor": "white",
           "linecolor": "white",
           "ticks": "",
           "title": {
            "standoff": 15
           },
           "zerolinecolor": "white",
           "zerolinewidth": 2
          },
          "yaxis": {
           "automargin": true,
           "gridcolor": "white",
           "linecolor": "white",
           "ticks": "",
           "title": {
            "standoff": 15
           },
           "zerolinecolor": "white",
           "zerolinewidth": 2
          }
         }
        },
        "title": {
         "text": "Berliner Wohnungsmarkt - Umfassende Zeitreihen-Analyse (2019-2025)",
         "x": 0.5
        },
        "xaxis": {
         "anchor": "y",
         "domain": [
          0,
          0.2888888888888889
         ]
        },
        "xaxis2": {
         "anchor": "y2",
         "domain": [
          0.35555555555555557,
          0.6444444444444445
         ]
        },
        "xaxis3": {
         "anchor": "y3",
         "domain": [
          0.7111111111111111,
          1
         ]
        },
        "xaxis4": {
         "anchor": "y4",
         "domain": [
          0,
          0.2888888888888889
         ]
        },
        "xaxis5": {
         "anchor": "y5",
         "domain": [
          0.35555555555555557,
          0.6444444444444445
         ]
        },
        "xaxis6": {
         "anchor": "y6",
         "domain": [
          0.7111111111111111,
          1
         ]
        },
        "yaxis": {
         "anchor": "x",
         "domain": [
          0.625,
          1
         ]
        },
        "yaxis2": {
         "anchor": "x2",
         "domain": [
          0.625,
          1
         ]
        },
        "yaxis3": {
         "anchor": "x3",
         "domain": [
          0.625,
          1
         ]
        },
        "yaxis4": {
         "anchor": "x4",
         "domain": [
          0,
          0.375
         ]
        },
        "yaxis5": {
         "anchor": "x5",
         "domain": [
          0,
          0.375
         ]
        },
        "yaxis6": {
         "anchor": "x6",
         "domain": [
          0,
          0.375
         ]
        }
       }
      }
     },
     "metadata": {},
     "output_type": "display_data"
    },
    {
     "name": "stdout",
     "output_type": "stream",
     "text": [
      "\n",
      "📊 STATISTISCHE ZUSAMMENFASSUNG\n",
      "Zeitraum: 2019 - 2025\n",
      "Gesamtdatenpunkte: 17,826\n",
      "\n",
      "💰 PREISENTWICKLUNG:\n",
      "  2019: 945.00€ (Median)\n",
      "  2022: 790.60€ (Median)\n",
      "  2025: 1000.00€ (Median)\n",
      "\n",
      "📈 VERÄNDERUNGSRATEN (Median):\n",
      "  2019 → 2022: -16.3%\n",
      "  2022 → 2025: +26.5%\n",
      "\n",
      "✅ Umfassende Zeitreihen-Visualisierung erstellt\n",
      "📊 Dashboard zeigt 6 verschiedene Perspektiven der Marktentwicklung\n"
     ]
    }
   ],
   "source": [
    "# Umfassende Visualisierungen der Zeitreihen-Entwicklung\n",
    "print(\"=\" * 80)\n",
    "print(\"VISUALISIERUNG DER ZEITREIHEN-ENTWICKLUNG\")\n",
    "print(\"=\" * 80)\n",
    "\n",
    "# Erstelle ein großes Dashboard mit mehreren Subplots\n",
    "fig = make_subplots(\n",
    "    rows=2, cols=3,\n",
    "    subplot_titles=[\n",
    "        'Median-Preisentwicklung',\n",
    "        'Preis pro m² Entwicklung',\n",
    "        'Anzahl Wohnungen nach Jahren', \n",
    "        'Größenverteilung',\n",
    "        'Preis-Boxplots',\n",
    "        'Preis vs. Größe (Sample)'\n",
    "    ]\n",
    ")\n",
    "\n",
    "# 1. Median-Preisentwicklung\n",
    "yearly_median = combined_df.groupby('year')['price'].median()\n",
    "fig.add_trace(\n",
    "    go.Scatter(x=yearly_median.index, y=yearly_median.values,\n",
    "               mode='lines+markers',\n",
    "               name='Median Preis',\n",
    "               line=dict(width=3),\n",
    "               marker=dict(size=10)),\n",
    "    row=1, col=1\n",
    ")\n",
    "\n",
    "# 2. Preis pro m² Entwicklung\n",
    "yearly_price_sqm = combined_df.groupby('year')['price_per_sqm'].median()\n",
    "fig.add_trace(\n",
    "    go.Scatter(x=yearly_price_sqm.index, y=yearly_price_sqm.values,\n",
    "               mode='lines+markers',\n",
    "               name='Median €/m²',\n",
    "               line=dict(width=3, color='orange'),\n",
    "               marker=dict(size=10)),\n",
    "    row=1, col=2\n",
    ")\n",
    "\n",
    "# 3. Anzahl Wohnungen nach Jahren\n",
    "year_counts = combined_df['year'].value_counts().sort_index()\n",
    "fig.add_trace(\n",
    "    go.Bar(x=year_counts.index, y=year_counts.values,\n",
    "           name='Anzahl Wohnungen',\n",
    "           marker_color='lightblue'),\n",
    "    row=1, col=3\n",
    ")\n",
    "\n",
    "# 4. Größenverteilung\n",
    "yearly_size = combined_df.groupby('year')['size'].median()\n",
    "fig.add_trace(\n",
    "    go.Scatter(x=yearly_size.index, y=yearly_size.values,\n",
    "               mode='lines+markers',\n",
    "               name='Median Größe',\n",
    "               line=dict(width=3, color='green'),\n",
    "               marker=dict(size=10)),\n",
    "    row=2, col=1\n",
    ")\n",
    "\n",
    "# 5. Erstelle separate Boxplot-Visualisierung (einfacher)\n",
    "yearly_stats = combined_df.groupby('year')['price'].agg(['min', 'max', 'median', 'mean']).round(2)\n",
    "fig.add_trace(\n",
    "    go.Scatter(x=yearly_stats.index, y=yearly_stats['median'],\n",
    "               mode='lines+markers',\n",
    "               name='Median',\n",
    "               line=dict(color='red')),\n",
    "    row=2, col=2\n",
    ")\n",
    "\n",
    "fig.add_trace(\n",
    "    go.Scatter(x=yearly_stats.index, y=yearly_stats['mean'],\n",
    "               mode='lines+markers',\n",
    "               name='Mittelwert',\n",
    "               line=dict(color='blue', dash='dash')),\n",
    "    row=2, col=2\n",
    ")\n",
    "\n",
    "# 6. Preis vs. Größe Scatter (Sample für bessere Performance)\n",
    "sample_data = combined_df.sample(n=min(2000, len(combined_df)), random_state=42)\n",
    "for i, year in enumerate(sorted(sample_data['year'].unique())):\n",
    "    year_data = sample_data[sample_data['year'] == year]\n",
    "    fig.add_trace(\n",
    "        go.Scatter(x=year_data['size'], y=year_data['price'],\n",
    "                   mode='markers',\n",
    "                   name=f'Daten {year}',\n",
    "                   marker=dict(size=4, opacity=0.6)),\n",
    "        row=2, col=3\n",
    "    )\n",
    "\n",
    "# Layout anpassen\n",
    "fig.update_layout(\n",
    "    height=800,\n",
    "    title_text=\"Berliner Wohnungsmarkt - Umfassende Zeitreihen-Analyse (2019-2025)\",\n",
    "    title_x=0.5,\n",
    "    showlegend=True\n",
    ")\n",
    "\n",
    "fig.show()\n",
    "\n",
    "# Zusätzliche statistische Zusammenfassung\n",
    "print(f\"\\n📊 STATISTISCHE ZUSAMMENFASSUNG\")\n",
    "print(f\"Zeitraum: {combined_df['year'].min()} - {combined_df['year'].max()}\")\n",
    "print(f\"Gesamtdatenpunkte: {len(combined_df):,}\")\n",
    "\n",
    "# Preisentwicklung\n",
    "print(f\"\\n💰 PREISENTWICKLUNG:\")\n",
    "for year in sorted(yearly_median.index):\n",
    "    print(f\"  {year}: {yearly_median[year]:.2f}€ (Median)\")\n",
    "\n",
    "# Veränderungsraten\n",
    "years = sorted(yearly_median.index)\n",
    "if len(years) > 1:\n",
    "    print(f\"\\n📈 VERÄNDERUNGSRATEN (Median):\")\n",
    "    for i in range(1, len(years)):\n",
    "        current = yearly_median[years[i]]\n",
    "        previous = yearly_median[years[i-1]]\n",
    "        change_pct = ((current - previous) / previous) * 100\n",
    "        print(f\"  {years[i-1]} → {years[i]}: {change_pct:+.1f}%\")\n",
    "\n",
    "print(f\"\\n✅ Umfassende Zeitreihen-Visualisierung erstellt\")\n",
    "print(f\"📊 Dashboard zeigt 6 verschiedene Perspektiven der Marktentwicklung\")"
   ]
  },
  {
   "cell_type": "markdown",
   "id": "10604c57",
   "metadata": {},
   "source": [
    "### 🏘️ **Bezirksanalyse und regionale Unterschiede**\n",
    "Analysiere die Unterschiede zwischen den Berliner Bezirken über die Jahre hinweg."
   ]
  },
  {
   "cell_type": "markdown",
   "id": "c50f0178",
   "metadata": {},
   "source": [
    "### 3.2 Bezirksvergleiche und geografische Analyse\n",
    "Analysiere die Mietpreise nach Berliner Bezirken und identifiziere Trends."
   ]
  },
  {
   "cell_type": "code",
   "execution_count": 9,
   "id": "7eaf3866",
   "metadata": {},
   "outputs": [
    {
     "name": "stdout",
     "output_type": "stream",
     "text": [
      "============================================================\n",
      "BEZIRKSVERGLEICHE UND GEOGRAFISCHE ANALYSE\n",
      "============================================================\n",
      "\n",
      "Mietpreisstatistik nach Bezirken:\n",
      "                            count     mean   median      std      min      max\n",
      "district                                                                      \n",
      "Grunewald                      91  2360.00  2100.00  1294.98   500.00  8475.00\n",
      "Gatow                           3  1825.09  2500.00  1168.98   475.27  2500.00\n",
      "Dahlem                         58  1808.88  1452.50  1307.65   430.00  6000.00\n",
      "Rummelsburg                     5  1776.02  1614.90   350.23  1581.30  2400.00\n",
      "Charlottenburg-Wilmersdorf    636  1747.37  1304.88  1390.44   208.00  9500.00\n",
      "...                           ...      ...      ...      ...      ...      ...\n",
      "Staaken                       110   611.54   599.50   222.24   187.59  1200.00\n",
      "Heinersdorf                    25   611.21   575.00   147.33   420.00   938.00\n",
      "Haselhorst                     16   608.99   596.59   203.28   340.42  1093.57\n",
      "Hellersdorf                   272   546.52   529.00   131.65   178.16   949.00\n",
      "Marzahn                       146   500.65   491.11   167.17   261.38  1291.60\n",
      "\n",
      "[87 rows x 6 columns]\n",
      "\n",
      "Top 10 teuerste Bezirke (Durchschnitt):\n",
      "  Grunewald: 2360.00 € (Median: 2100.00 €, n=91.0)\n",
      "  Gatow: 1825.09 € (Median: 2500.00 €, n=3.0)\n",
      "  Dahlem: 1808.88 € (Median: 1452.50 €, n=58.0)\n",
      "  Rummelsburg: 1776.02 € (Median: 1614.90 €, n=5.0)\n",
      "  Charlottenburg-Wilmersdorf: 1747.37 € (Median: 1304.88 €, n=636.0)\n",
      "  Nikolassee: 1731.65 € (Median: 1649.00 €, n=29.0)\n",
      "  Mitte: 1644.50 € (Median: 1449.00 €, n=1921.0)\n",
      "  Wilmersdorf: 1639.08 € (Median: 1410.00 €, n=432.0)\n",
      "  Charlottenburg: 1555.04 € (Median: 1334.10 €, n=792.0)\n",
      "  Prenzlauer: 1552.83 € (Median: 1346.70 €, n=473.0)\n",
      "\n",
      "Top 10 günstigste Bezirke (Durchschnitt):\n",
      "  Oberschöneweide: 663.56 € (Median: 600.00 €, n=137.0)\n",
      "  Alt: 642.99 € (Median: 623.00 €, n=111.0)\n",
      "  Buckow: 638.96 € (Median: 634.89 €, n=57.0)\n",
      "  Waidmannslust: 627.49 € (Median: 547.00 €, n=58.0)\n",
      "  Neu: 612.84 € (Median: 634.00 €, n=80.0)\n",
      "  Staaken: 611.54 € (Median: 599.50 €, n=110.0)\n",
      "  Heinersdorf: 611.21 € (Median: 575.00 €, n=25.0)\n",
      "  Haselhorst: 608.99 € (Median: 596.59 €, n=16.0)\n",
      "  Hellersdorf: 546.52 € (Median: 529.00 €, n=272.0)\n",
      "  Marzahn: 500.65 € (Median: 491.11 €, n=146.0)\n",
      "\n",
      "📐 PREIS PRO QUADRATMETER NACH BEZIRKEN:\n",
      "                            count   mean  median   std\n",
      "district                                              \n",
      "Falkensee                       1  21.33   21.33   NaN\n",
      "Mitte                        1921  20.49   18.86  9.49\n",
      "Charlottenburg-Wilmersdorf    636  19.92   19.90  8.53\n",
      "Tiergarten                    832  19.44   17.83  9.48\n",
      "Grunewald                      91  17.52   17.00  4.78\n",
      "Prenzlauer                    473  17.50   16.72  4.98\n",
      "Friedrichshain                668  17.37   16.26  4.87\n",
      "Friedrichshain-Kreuzberg      773  17.34   14.84  8.81\n",
      "Kreuzberg                     364  16.95   16.30  5.65\n",
      "Wilmersdorf                   432  16.88   16.09  5.03\n",
      "\n",
      "📈 ZEITLICHE ENTWICKLUNG PRO BEZIRK:\n",
      "Bezirke mit Daten aus mindestens 2 Jahren: 20\n",
      "\n",
      "Mitte:\n",
      "  2019: 1799.06€\n",
      "  2022: 1573.78€\n",
      "  2025: 1530.62€\n",
      "  Änderung: -268.44€ (-14.9%)\n",
      "\n",
      "Pankow:\n",
      "  2019: 1022.13€\n",
      "  2022: 977.74€\n",
      "  2025: 1203.95€\n",
      "  Änderung: +181.82€ (+17.8%)\n",
      "\n",
      "Neukölln:\n",
      "  2019: 1035.21€\n",
      "  2022: 864.69€\n",
      "  2025: 870.29€\n",
      "  Änderung: -164.92€ (-15.9%)\n",
      "\n",
      "Spandau:\n",
      "  2019: 709.34€\n",
      "  2022: 728.51€\n",
      "  2025: 919.03€\n",
      "  Änderung: +209.69€ (+29.6%)\n",
      "\n",
      "Tiergarten:\n",
      "  2019: 1452.20€\n",
      "  2022: 1474.72€\n",
      "  2025: 1037.50€\n",
      "  Änderung: -414.70€ (-28.6%)\n",
      "\n",
      "✅ Bezirksanalyse abgeschlossen!\n"
     ]
    }
   ],
   "source": [
    "# Bezirksvergleiche und geografische Analyse\n",
    "print(\"=\" * 60)\n",
    "print(\"BEZIRKSVERGLEICHE UND GEOGRAFISCHE ANALYSE\")\n",
    "print(\"=\" * 60)\n",
    "\n",
    "# Statistik pro Bezirk\n",
    "print(\"\\nMietpreisstatistik nach Bezirken:\")\n",
    "district_stats = combined_df.groupby('district')['price'].agg(['count', 'mean', 'median', 'std', 'min', 'max']).round(2)\n",
    "district_stats = district_stats.sort_values('mean', ascending=False)\n",
    "print(district_stats)\n",
    "\n",
    "# Top 10 teuerste und günstigste Bezirke\n",
    "print(\"\\nTop 10 teuerste Bezirke (Durchschnitt):\")\n",
    "top_expensive = district_stats.head(10)\n",
    "for district, stats in top_expensive.iterrows():\n",
    "    print(f\"  {district}: {stats['mean']:.2f} € (Median: {stats['median']:.2f} €, n={stats['count']})\")\n",
    "\n",
    "print(\"\\nTop 10 günstigste Bezirke (Durchschnitt):\")\n",
    "top_cheap = district_stats.tail(10)\n",
    "for district, stats in top_cheap.iterrows():\n",
    "    print(f\"  {district}: {stats['mean']:.2f} € (Median: {stats['median']:.2f} €, n={stats['count']})\")\n",
    "\n",
    "# Preis pro m² nach Bezirken\n",
    "print(\"\\n📐 PREIS PRO QUADRATMETER NACH BEZIRKEN:\")\n",
    "combined_df['price_per_sqm'] = combined_df['price'] / combined_df['size']\n",
    "district_price_sqm = combined_df.groupby('district')['price_per_sqm'].agg(['count', 'mean', 'median', 'std']).round(2)\n",
    "district_price_sqm = district_price_sqm.sort_values('mean', ascending=False)\n",
    "print(district_price_sqm.head(10))\n",
    "\n",
    "# Zeitliche Entwicklung pro Bezirk (nur Bezirke mit Daten aus allen Jahren)\n",
    "print(\"\\n📈 ZEITLICHE ENTWICKLUNG PRO BEZIRK:\")\n",
    "# Bezirke mit Daten aus allen verfügbaren Jahren finden\n",
    "districts_all_years = combined_df.groupby('district')['year'].nunique()\n",
    "districts_complete = districts_all_years[districts_all_years >= 2].index  # Mindestens 2 Jahre\n",
    "\n",
    "if len(districts_complete) > 0:\n",
    "    print(f\"Bezirke mit Daten aus mindestens 2 Jahren: {len(districts_complete)}\")\n",
    "    \n",
    "    # Für Top 5 Bezirke mit den meisten Daten\n",
    "    district_counts = combined_df['district'].value_counts()\n",
    "    top_districts = district_counts.head(5).index\n",
    "    \n",
    "    for district in top_districts:\n",
    "        district_data = combined_df[combined_df['district'] == district]\n",
    "        yearly_avg = district_data.groupby('year')['price'].mean()\n",
    "        print(f\"\\n{district}:\")\n",
    "        for year, avg_price in yearly_avg.items():\n",
    "            print(f\"  {year}: {avg_price:.2f}€\")\n",
    "        \n",
    "        # Berechne Änderung falls möglich\n",
    "        if len(yearly_avg) > 1:\n",
    "            years_sorted = sorted(yearly_avg.index)\n",
    "            change_abs = yearly_avg[years_sorted[-1]] - yearly_avg[years_sorted[0]]\n",
    "            change_pct = (change_abs / yearly_avg[years_sorted[0]]) * 100\n",
    "            print(f\"  Änderung: {change_abs:+.2f}€ ({change_pct:+.1f}%)\")\n",
    "else:\n",
    "    print(\"Keine Bezirke mit Daten aus mehreren Jahren gefunden.\")\n",
    "\n",
    "print(\"\\n✅ Bezirksanalyse abgeschlossen!\")"
   ]
  },
  {
   "cell_type": "markdown",
   "id": "f643133a",
   "metadata": {},
   "source": [
    "### 3.3 Wohnungsgrößen und Preis-pro-Quadratmeter-Analyse\n",
    "Analysiere die Beziehung zwischen Wohnungsgröße und Mietpreis."
   ]
  },
  {
   "cell_type": "code",
   "execution_count": 12,
   "id": "57b95be5",
   "metadata": {},
   "outputs": [
    {
     "name": "stdout",
     "output_type": "stream",
     "text": [
      "============================================================\n",
      "WOHNUNGSGRÖSSENS- UND PREIS-PRO-QUADRATMETER-ANALYSE\n",
      "============================================================\n",
      "Verfügbare Spalten für Größenanalyse:\n",
      "Größen-relevante Spalten: ['size']\n",
      "Preis-pro-Quadratmeter Spalten: ['price_per_sqm']\n",
      "\n",
      "Analyse von size:\n",
      "  Verfügbare Werte: 17826/17826 (100.0%)\n",
      "  Statistik: Min=10.0, Max=482.0, Median=69.0\n"
     ]
    },
    {
     "data": {
      "image/png": "[encoded data removed]",
      "text/plain": [
       "<Figure size 1500x500 with 2 Axes>"
      ]
     },
     "metadata": {},
     "output_type": "display_data"
    },
    {
     "name": "stdout",
     "output_type": "stream",
     "text": [
      "\n",
      "Analyse von price_per_sqm:\n",
      "  Verfügbare Werte: 17826/17826 (100.0%)\n",
      "  Statistik: Min=1.3, Max=145.1, Median=13.7\n"
     ]
    },
    {
     "data": {
      "image/png": "[encoded data removed]",
      "text/plain": [
       "<Figure size 1500x500 with 2 Axes>"
      ]
     },
     "metadata": {},
     "output_type": "display_data"
    },
    {
     "name": "stdout",
     "output_type": "stream",
     "text": [
      "\n",
      "Durchschnittlicher price_per_sqm nach Bezirk:\n",
      "  Falkensee: 21.33 €/m²\n",
      "  Mitte: 20.49 €/m²\n",
      "  Charlottenburg-Wilmersdorf: 19.92 €/m²\n",
      "  Tiergarten: 19.44 €/m²\n",
      "  Grunewald: 17.52 €/m²\n",
      "  Prenzlauer: 17.50 €/m²\n",
      "  Friedrichshain: 17.37 €/m²\n",
      "  Friedrichshain-Kreuzberg: 17.34 €/m²\n",
      "  Kreuzberg: 16.95 €/m²\n",
      "  Wilmersdorf: 16.88 €/m²\n",
      "\n",
      "============================================================\n",
      "KORRELATIONSANALYSE\n",
      "============================================================\n",
      "Numerische Spalten für Korrelationsanalyse: ['price', 'size', 'rooms', 'year', 'price_per_sqm']\n",
      "\n",
      "Korrelationsmatrix:\n",
      "               price   size  rooms   year  price_per_sqm\n",
      "price          1.000  0.784  0.645  0.054          0.468\n",
      "size           0.784  1.000  0.825 -0.105         -0.059\n",
      "rooms          0.645  0.825  1.000 -0.079         -0.070\n",
      "year           0.054 -0.105 -0.079  1.000          0.193\n",
      "price_per_sqm  0.468 -0.059 -0.070  0.193          1.000\n"
     ]
    },
    {
     "data": {
      "image/png": "[encoded data removed]",
      "text/plain": [
       "<Figure size 1000x800 with 2 Axes>"
      ]
     },
     "metadata": {},
     "output_type": "display_data"
    },
    {
     "name": "stdout",
     "output_type": "stream",
     "text": [
      "\n",
      "Starke Korrelationen (|r| > 0.5):\n",
      "  price ↔ size: 0.784\n",
      "  price ↔ rooms: 0.645\n",
      "  size ↔ rooms: 0.825\n",
      "\n",
      "============================================================\n",
      "ZUSAMMENFASSUNG DER WEITERFÜHRENDEN ANALYSE\n",
      "============================================================\n",
      "📊 ZENTRALE ERKENNTNISSE:\n",
      "   • Datensätze: 3 verschiedene Zeitpunkte\n",
      "   • Bezirke: 87 verschiedene Bezirke\n",
      "   • Zeitspanne: 2019 - 2025\n",
      "   • Gesamtdatenpunkte: 17,826\n",
      "   • Preisentwicklung: +134.11€ (+11.6%)\n",
      "   • Durchschnittliche Wohnungsgröße: 77.3m²\n",
      "   • Preisspanne: 150€ - 9990€\n",
      "   • Durchschnittlicher m²-Preis: 15.21€/m²\n",
      "\n",
      "✅ Weiterführende Analyse abgeschlossen!\n",
      "🎯 Nächste Schritte: Präsentation der Ergebnisse und Handlungsempfehlungen\n"
     ]
    }
   ],
   "source": [
    "# Wohnungsgrößen und Preis-pro-Quadratmeter-Analyse\n",
    "print(\"=\" * 60)\n",
    "print(\"WOHNUNGSGRÖSSENS- UND PREIS-PRO-QUADRATMETER-ANALYSE\")\n",
    "print(\"=\" * 60)\n",
    "\n",
    "# Verfügbare Spalten anzeigen\n",
    "print(\"Verfügbare Spalten für Größenanalyse:\")\n",
    "size_columns = [col for col in combined_df.columns if 'size' in col.lower()]\n",
    "price_sqm_columns = [col for col in combined_df.columns if 'price_per_sqm' in col.lower()]\n",
    "print(f\"Größen-relevante Spalten: {size_columns}\")\n",
    "print(f\"Preis-pro-Quadratmeter Spalten: {price_sqm_columns}\")\n",
    "\n",
    "# Analyse der Wohnungsgrößen\n",
    "for col in ['size', 'price_per_sqm']:\n",
    "    if col in combined_df.columns:\n",
    "        print(f\"\\nAnalyse von {col}:\")\n",
    "        \n",
    "        # Vollständigkeit\n",
    "        total_values = len(combined_df)\n",
    "        non_null_values = combined_df[col].notna().sum()\n",
    "        completeness = (non_null_values / total_values) * 100\n",
    "        print(f\"  Verfügbare Werte: {non_null_values}/{total_values} ({completeness:.1f}%)\")\n",
    "        \n",
    "        # Grundlegende Statistiken\n",
    "        if col == 'size':\n",
    "            print(f\"  Statistik: Min={combined_df[col].min()}, Max={combined_df[col].max()}, Median={combined_df[col].median()}\")\n",
    "        else:\n",
    "            print(f\"  Statistik: Min={combined_df[col].min():.1f}, Max={combined_df[col].max():.1f}, Median={combined_df[col].median():.1f}\")\n",
    "        \n",
    "        # Visualisierung\n",
    "        import matplotlib.pyplot as plt\n",
    "        \n",
    "        fig, (ax1, ax2) = plt.subplots(1, 2, figsize=(15, 5))\n",
    "        \n",
    "        # Histogramm\n",
    "        ax1.hist(combined_df[col].dropna(), bins=30, alpha=0.7, edgecolor='black')\n",
    "        ax1.set_title(f'Verteilung von {col}')\n",
    "        ax1.set_xlabel(col)\n",
    "        ax1.set_ylabel('Häufigkeit')\n",
    "        ax1.grid(True, alpha=0.3)\n",
    "        \n",
    "        # Box-Plot\n",
    "        ax2.boxplot(combined_df[col].dropna())\n",
    "        ax2.set_title(f'Boxplot von {col}')\n",
    "        ax2.set_ylabel(col)\n",
    "        ax2.grid(True, alpha=0.3)\n",
    "        \n",
    "        plt.tight_layout()\n",
    "        plt.show()\n",
    "        \n",
    "        # Preis-pro-Quadratmeter nach Bezirk\n",
    "        if col == 'price_per_sqm':\n",
    "            print(f\"\\nDurchschnittlicher {col} nach Bezirk:\")\n",
    "            price_per_sqm_by_district = combined_df.groupby('district')[col].mean().sort_values(ascending=False)\n",
    "            for district, price in price_per_sqm_by_district.head(10).items():\n",
    "                print(f\"  {district}: {price:.2f} €/m²\")\n",
    "\n",
    "print(\"\\n\" + \"=\"*60)\n",
    "print(\"KORRELATIONSANALYSE\")\n",
    "print(\"=\"*60)\n",
    "\n",
    "# Korrelationsmatrix numerischer Variablen\n",
    "numeric_columns = combined_df.select_dtypes(include=[np.number]).columns\n",
    "print(f\"Numerische Spalten für Korrelationsanalyse: {list(numeric_columns)}\")\n",
    "\n",
    "if len(numeric_columns) > 1:\n",
    "    correlation_matrix = combined_df[numeric_columns].corr()\n",
    "    print(\"\\nKorrelationsmatrix:\")\n",
    "    print(correlation_matrix.round(3))\n",
    "    \n",
    "    # Heatmap der Korrelationen\n",
    "    import seaborn as sns\n",
    "    plt.figure(figsize=(10, 8))\n",
    "    sns.heatmap(correlation_matrix, annot=True, cmap='coolwarm', center=0, square=True)\n",
    "    plt.title('Korrelationsmatrix der numerischen Variablen')\n",
    "    plt.tight_layout()\n",
    "    plt.show()\n",
    "    \n",
    "    # Starke Korrelationen hervorheben\n",
    "    print(\"\\nStarke Korrelationen (|r| > 0.5):\")\n",
    "    for i in range(len(correlation_matrix.columns)):\n",
    "        for j in range(i+1, len(correlation_matrix.columns)):\n",
    "            corr_val = correlation_matrix.iloc[i, j]\n",
    "            if abs(corr_val) > 0.5:\n",
    "                print(f\"  {correlation_matrix.columns[i]} ↔ {correlation_matrix.columns[j]}: {corr_val:.3f}\")\n",
    "\n",
    "print(\"\\n\" + \"=\"*60)\n",
    "print(\"ZUSAMMENFASSUNG DER WEITERFÜHRENDEN ANALYSE\")\n",
    "print(\"=\"*60)\n",
    "\n",
    "# Gesamtüberblick\n",
    "print(\"📊 ZENTRALE ERKENNTNISSE:\")\n",
    "print(f\"   • Datensätze: {combined_df['dataset_id'].nunique()} verschiedene Zeitpunkte\")\n",
    "print(f\"   • Bezirke: {combined_df['district'].nunique()} verschiedene Bezirke\")\n",
    "print(f\"   • Zeitspanne: {combined_df['year'].min()} - {combined_df['year'].max()}\")\n",
    "print(f\"   • Gesamtdatenpunkte: {len(combined_df):,}\")\n",
    "\n",
    "# Preis-Trends\n",
    "yearly_avg = combined_df.groupby('year')['price'].mean()\n",
    "if len(yearly_avg) > 1:\n",
    "    years = sorted(yearly_avg.index)\n",
    "    total_change = yearly_avg[years[-1]] - yearly_avg[years[0]]\n",
    "    total_change_pct = (total_change / yearly_avg[years[0]]) * 100\n",
    "    print(f\"   • Preisentwicklung: {total_change:+.2f}€ ({total_change_pct:+.1f}%)\")\n",
    "\n",
    "# Größenverteilung\n",
    "size_stats = combined_df['size'].describe()\n",
    "print(f\"   • Durchschnittliche Wohnungsgröße: {size_stats['mean']:.1f}m²\")\n",
    "print(f\"   • Preisspanne: {combined_df['price'].min():.0f}€ - {combined_df['price'].max():.0f}€\")\n",
    "\n",
    "if 'price_per_sqm' in combined_df.columns:\n",
    "    sqm_stats = combined_df['price_per_sqm'].describe()\n",
    "    print(f\"   • Durchschnittlicher m²-Preis: {sqm_stats['mean']:.2f}€/m²\")\n",
    "\n",
    "print(\"\\n✅ Weiterführende Analyse abgeschlossen!\")\n",
    "print(\"🎯 Nächste Schritte: Präsentation der Ergebnisse und Handlungsempfehlungen\")"
   ]
  }
 ],
 "metadata": {
  "kernelspec": {
   "display_name": "Python 3",
   "language": "python",
   "name": "python3"
  },
  "language_info": {
   "codemirror_mode": {
    "name": "ipython",
    "version": 3
   },
   "file_extension": ".py",
   "mimetype": "text/x-python",
   "name": "python",
   "nbconvert_exporter": "python",
   "pygments_lexer": "ipython3",
   "version": "3.11.9"
  }
 },
 "nbformat": 4,
 "nbformat_minor": 5
}
